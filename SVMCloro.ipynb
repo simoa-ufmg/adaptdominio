{
  "cells": [
    {
      "cell_type": "markdown",
      "metadata": {
        "id": "view-in-github",
        "colab_type": "text"
      },
      "source": [
        "<a href=\"https://colab.research.google.com/github/simoa-ufmg/adaptdominio/blob/main/SVMCloro.ipynb\" target=\"_parent\"><img src=\"https://colab.research.google.com/assets/colab-badge.svg\" alt=\"Open In Colab\"/></a>"
      ]
    },
    {
      "cell_type": "markdown",
      "metadata": {
        "id": "YA52mXTJmCWk"
      },
      "source": [
        "# Water"
      ]
    },
    {
      "cell_type": "code",
      "execution_count": null,
      "metadata": {
        "colab": {
          "base_uri": "https://localhost:8080/"
        },
        "id": "m5c7zvGimD6L",
        "outputId": "229214b0-8590-4c40-ddc3-1dabc80412ae"
      },
      "outputs": [
        {
          "name": "stdout",
          "output_type": "stream",
          "text": [
            "Looking in indexes: https://pypi.org/simple, https://us-python.pkg.dev/colab-wheels/public/simple/\n",
            "Collecting adapt\n",
            "  Downloading adapt-0.4.2.tar.gz (99 kB)\n",
            "\u001b[K     |████████████████████████████████| 99 kB 2.5 MB/s \n",
            "\u001b[?25hRequirement already satisfied: numpy>=1.16 in /usr/local/lib/python3.8/dist-packages (from adapt) (1.21.6)\n",
            "Requirement already satisfied: scipy>=1.0 in /usr/local/lib/python3.8/dist-packages (from adapt) (1.7.3)\n",
            "Requirement already satisfied: tensorflow>=2.0 in /usr/local/lib/python3.8/dist-packages (from adapt) (2.9.2)\n",
            "Requirement already satisfied: scikit-learn>=0.2 in /usr/local/lib/python3.8/dist-packages (from adapt) (1.0.2)\n",
            "Requirement already satisfied: cvxopt>=1.2 in /usr/local/lib/python3.8/dist-packages (from adapt) (1.3.0)\n",
            "Requirement already satisfied: threadpoolctl>=2.0.0 in /usr/local/lib/python3.8/dist-packages (from scikit-learn>=0.2->adapt) (3.1.0)\n",
            "Requirement already satisfied: joblib>=0.11 in /usr/local/lib/python3.8/dist-packages (from scikit-learn>=0.2->adapt) (1.2.0)\n",
            "Requirement already satisfied: six>=1.12.0 in /usr/local/lib/python3.8/dist-packages (from tensorflow>=2.0->adapt) (1.15.0)\n",
            "Requirement already satisfied: grpcio<2.0,>=1.24.3 in /usr/local/lib/python3.8/dist-packages (from tensorflow>=2.0->adapt) (1.51.1)\n",
            "Requirement already satisfied: packaging in /usr/local/lib/python3.8/dist-packages (from tensorflow>=2.0->adapt) (21.3)\n",
            "Requirement already satisfied: gast<=0.4.0,>=0.2.1 in /usr/local/lib/python3.8/dist-packages (from tensorflow>=2.0->adapt) (0.4.0)\n",
            "Requirement already satisfied: absl-py>=1.0.0 in /usr/local/lib/python3.8/dist-packages (from tensorflow>=2.0->adapt) (1.3.0)\n",
            "Requirement already satisfied: termcolor>=1.1.0 in /usr/local/lib/python3.8/dist-packages (from tensorflow>=2.0->adapt) (2.1.1)\n",
            "Requirement already satisfied: wrapt>=1.11.0 in /usr/local/lib/python3.8/dist-packages (from tensorflow>=2.0->adapt) (1.14.1)\n",
            "Requirement already satisfied: tensorflow-estimator<2.10.0,>=2.9.0rc0 in /usr/local/lib/python3.8/dist-packages (from tensorflow>=2.0->adapt) (2.9.0)\n",
            "Requirement already satisfied: keras-preprocessing>=1.1.1 in /usr/local/lib/python3.8/dist-packages (from tensorflow>=2.0->adapt) (1.1.2)\n",
            "Requirement already satisfied: libclang>=13.0.0 in /usr/local/lib/python3.8/dist-packages (from tensorflow>=2.0->adapt) (14.0.6)\n",
            "Requirement already satisfied: protobuf<3.20,>=3.9.2 in /usr/local/lib/python3.8/dist-packages (from tensorflow>=2.0->adapt) (3.19.6)\n",
            "Requirement already satisfied: tensorboard<2.10,>=2.9 in /usr/local/lib/python3.8/dist-packages (from tensorflow>=2.0->adapt) (2.9.1)\n",
            "Requirement already satisfied: keras<2.10.0,>=2.9.0rc0 in /usr/local/lib/python3.8/dist-packages (from tensorflow>=2.0->adapt) (2.9.0)\n",
            "Requirement already satisfied: astunparse>=1.6.0 in /usr/local/lib/python3.8/dist-packages (from tensorflow>=2.0->adapt) (1.6.3)\n",
            "Requirement already satisfied: tensorflow-io-gcs-filesystem>=0.23.1 in /usr/local/lib/python3.8/dist-packages (from tensorflow>=2.0->adapt) (0.28.0)\n",
            "Requirement already satisfied: typing-extensions>=3.6.6 in /usr/local/lib/python3.8/dist-packages (from tensorflow>=2.0->adapt) (4.4.0)\n",
            "Requirement already satisfied: h5py>=2.9.0 in /usr/local/lib/python3.8/dist-packages (from tensorflow>=2.0->adapt) (3.1.0)\n",
            "Requirement already satisfied: opt-einsum>=2.3.2 in /usr/local/lib/python3.8/dist-packages (from tensorflow>=2.0->adapt) (3.3.0)\n",
            "Requirement already satisfied: flatbuffers<2,>=1.12 in /usr/local/lib/python3.8/dist-packages (from tensorflow>=2.0->adapt) (1.12)\n",
            "Requirement already satisfied: setuptools in /usr/local/lib/python3.8/dist-packages (from tensorflow>=2.0->adapt) (57.4.0)\n",
            "Requirement already satisfied: google-pasta>=0.1.1 in /usr/local/lib/python3.8/dist-packages (from tensorflow>=2.0->adapt) (0.2.0)\n",
            "Requirement already satisfied: wheel<1.0,>=0.23.0 in /usr/local/lib/python3.8/dist-packages (from astunparse>=1.6.0->tensorflow>=2.0->adapt) (0.38.4)\n",
            "Requirement already satisfied: markdown>=2.6.8 in /usr/local/lib/python3.8/dist-packages (from tensorboard<2.10,>=2.9->tensorflow>=2.0->adapt) (3.4.1)\n",
            "Requirement already satisfied: google-auth-oauthlib<0.5,>=0.4.1 in /usr/local/lib/python3.8/dist-packages (from tensorboard<2.10,>=2.9->tensorflow>=2.0->adapt) (0.4.6)\n",
            "Requirement already satisfied: tensorboard-plugin-wit>=1.6.0 in /usr/local/lib/python3.8/dist-packages (from tensorboard<2.10,>=2.9->tensorflow>=2.0->adapt) (1.8.1)\n",
            "Requirement already satisfied: tensorboard-data-server<0.7.0,>=0.6.0 in /usr/local/lib/python3.8/dist-packages (from tensorboard<2.10,>=2.9->tensorflow>=2.0->adapt) (0.6.1)\n",
            "Requirement already satisfied: requests<3,>=2.21.0 in /usr/local/lib/python3.8/dist-packages (from tensorboard<2.10,>=2.9->tensorflow>=2.0->adapt) (2.23.0)\n",
            "Requirement already satisfied: google-auth<3,>=1.6.3 in /usr/local/lib/python3.8/dist-packages (from tensorboard<2.10,>=2.9->tensorflow>=2.0->adapt) (2.15.0)\n",
            "Requirement already satisfied: werkzeug>=1.0.1 in /usr/local/lib/python3.8/dist-packages (from tensorboard<2.10,>=2.9->tensorflow>=2.0->adapt) (1.0.1)\n",
            "Requirement already satisfied: pyasn1-modules>=0.2.1 in /usr/local/lib/python3.8/dist-packages (from google-auth<3,>=1.6.3->tensorboard<2.10,>=2.9->tensorflow>=2.0->adapt) (0.2.8)\n",
            "Requirement already satisfied: rsa<5,>=3.1.4 in /usr/local/lib/python3.8/dist-packages (from google-auth<3,>=1.6.3->tensorboard<2.10,>=2.9->tensorflow>=2.0->adapt) (4.9)\n",
            "Requirement already satisfied: cachetools<6.0,>=2.0.0 in /usr/local/lib/python3.8/dist-packages (from google-auth<3,>=1.6.3->tensorboard<2.10,>=2.9->tensorflow>=2.0->adapt) (5.2.0)\n",
            "Requirement already satisfied: requests-oauthlib>=0.7.0 in /usr/local/lib/python3.8/dist-packages (from google-auth-oauthlib<0.5,>=0.4.1->tensorboard<2.10,>=2.9->tensorflow>=2.0->adapt) (1.3.1)\n",
            "Requirement already satisfied: importlib-metadata>=4.4 in /usr/local/lib/python3.8/dist-packages (from markdown>=2.6.8->tensorboard<2.10,>=2.9->tensorflow>=2.0->adapt) (4.13.0)\n",
            "Requirement already satisfied: zipp>=0.5 in /usr/local/lib/python3.8/dist-packages (from importlib-metadata>=4.4->markdown>=2.6.8->tensorboard<2.10,>=2.9->tensorflow>=2.0->adapt) (3.11.0)\n",
            "Requirement already satisfied: pyasn1<0.5.0,>=0.4.6 in /usr/local/lib/python3.8/dist-packages (from pyasn1-modules>=0.2.1->google-auth<3,>=1.6.3->tensorboard<2.10,>=2.9->tensorflow>=2.0->adapt) (0.4.8)\n",
            "Requirement already satisfied: certifi>=2017.4.17 in /usr/local/lib/python3.8/dist-packages (from requests<3,>=2.21.0->tensorboard<2.10,>=2.9->tensorflow>=2.0->adapt) (2022.9.24)\n",
            "Requirement already satisfied: chardet<4,>=3.0.2 in /usr/local/lib/python3.8/dist-packages (from requests<3,>=2.21.0->tensorboard<2.10,>=2.9->tensorflow>=2.0->adapt) (3.0.4)\n",
            "Requirement already satisfied: urllib3!=1.25.0,!=1.25.1,<1.26,>=1.21.1 in /usr/local/lib/python3.8/dist-packages (from requests<3,>=2.21.0->tensorboard<2.10,>=2.9->tensorflow>=2.0->adapt) (1.24.3)\n",
            "Requirement already satisfied: idna<3,>=2.5 in /usr/local/lib/python3.8/dist-packages (from requests<3,>=2.21.0->tensorboard<2.10,>=2.9->tensorflow>=2.0->adapt) (2.10)\n",
            "Requirement already satisfied: oauthlib>=3.0.0 in /usr/local/lib/python3.8/dist-packages (from requests-oauthlib>=0.7.0->google-auth-oauthlib<0.5,>=0.4.1->tensorboard<2.10,>=2.9->tensorflow>=2.0->adapt) (3.2.2)\n",
            "Requirement already satisfied: pyparsing!=3.0.5,>=2.0.2 in /usr/local/lib/python3.8/dist-packages (from packaging->tensorflow>=2.0->adapt) (3.0.9)\n",
            "Building wheels for collected packages: adapt\n",
            "  Building wheel for adapt (setup.py) ... \u001b[?25l\u001b[?25hdone\n",
            "  Created wheel for adapt: filename=adapt-0.4.2-py3-none-any.whl size=129084 sha256=b1f55fa0d70d880943b1db52f0576cad645f22a02590c4572fc3cabecd1c16d4\n",
            "  Stored in directory: /root/.cache/pip/wheels/39/8f/0d/d61cbcd94f98de74678107753ae4b77ed740ed7df9e2c346c3\n",
            "Successfully built adapt\n",
            "Installing collected packages: adapt\n",
            "Successfully installed adapt-0.4.2\n"
          ]
        }
      ],
      "source": [
        "!pip install adapt"
      ]
    },
    {
      "cell_type": "code",
      "execution_count": null,
      "metadata": {
        "colab": {
          "base_uri": "https://localhost:8080/"
        },
        "id": "S_Bl6h8XNTjB",
        "outputId": "4e6e8c1d-b4de-4c99-a69e-91e1bb85c2dd"
      },
      "outputs": [
        {
          "name": "stdout",
          "output_type": "stream",
          "text": [
            "Looking in indexes: https://pypi.org/simple, https://us-python.pkg.dev/colab-wheels/public/simple/\n",
            "Requirement already satisfied: imbalanced-learn in /usr/local/lib/python3.8/dist-packages (0.8.1)\n",
            "Requirement already satisfied: scipy>=0.19.1 in /usr/local/lib/python3.8/dist-packages (from imbalanced-learn) (1.7.3)\n",
            "Requirement already satisfied: numpy>=1.13.3 in /usr/local/lib/python3.8/dist-packages (from imbalanced-learn) (1.21.6)\n",
            "Requirement already satisfied: joblib>=0.11 in /usr/local/lib/python3.8/dist-packages (from imbalanced-learn) (1.2.0)\n",
            "Requirement already satisfied: scikit-learn>=0.24 in /usr/local/lib/python3.8/dist-packages (from imbalanced-learn) (1.0.2)\n",
            "Requirement already satisfied: threadpoolctl>=2.0.0 in /usr/local/lib/python3.8/dist-packages (from scikit-learn>=0.24->imbalanced-learn) (3.1.0)\n"
          ]
        }
      ],
      "source": [
        "!pip install imbalanced-learn"
      ]
    },
    {
      "cell_type": "code",
      "execution_count": null,
      "metadata": {
        "id": "gCpA3jYW_ZW3"
      },
      "outputs": [],
      "source": [
        "from collections import Counter\n",
        "from numpy import where"
      ]
    },
    {
      "cell_type": "code",
      "execution_count": null,
      "metadata": {
        "id": "RLzLSvFQmCWq"
      },
      "outputs": [],
      "source": [
        "import os\n",
        "\n",
        "import adapt\n",
        "import numpy as np\n",
        "import pandas as pd\n",
        "import tensorflow as tf\n",
        "import matplotlib.pyplot as plt\n",
        "import matplotlib\n",
        "import matplotlib.animation as animation\n",
        "from matplotlib import rc\n",
        "rc('animation', html='jshtml')\n",
        "\n",
        "from sklearn.preprocessing import OneHotEncoder, StandardScaler\n",
        "from sklearn.decomposition import PCA\n",
        "from sklearn.metrics import balanced_accuracy_score\n",
        "from sklearn.manifold import TSNE\n",
        "from sklearn.metrics import accuracy_score\n",
        "\n",
        "from tensorflow.keras import Model, Sequential\n",
        "from tensorflow.keras.optimizers import Adam, SGD, RMSprop, Adagrad\n",
        "from tensorflow.keras.layers import Dense, Input, Dropout, Conv2D, MaxPooling2D, Flatten, Reshape, GaussianNoise, BatchNormalization\n",
        "from tensorflow.keras.constraints import MinMaxNorm\n",
        "from tensorflow.keras.regularizers import l2\n",
        "\n",
        "from sklearn.metrics import confusion_matrix\n",
        "from sklearn.metrics import ConfusionMatrixDisplay\n",
        "from sklearn.svm import LinearSVC\n",
        "from sklearn.metrics import roc_auc_score\n",
        "\n",
        "# import SVC classifier\n",
        "from sklearn.svm import SVC\n",
        "# import metrics to compute accuracy\n",
        "from sklearn.metrics import accuracy_score\n",
        "from sklearn.metrics import classification_report\n",
        "from sklearn import metrics\n",
        "from sklearn.metrics import recall_score\n",
        "from sklearn.metrics import f1_score\n",
        "from sklearn.metrics import precision_score\n",
        "from sklearn.metrics import roc_auc_score\n",
        "from sklearn.metrics import balanced_accuracy_score\n",
        "\n",
        "from sklearn.linear_model import RidgeClassifier\n",
        "from adapt.utils import make_classification_da\n",
        "from adapt.feature_based import TCA\n",
        "\n",
        "from adapt.feature_based import DANN, ADDA, DeepCORAL, CORAL, MCD, MDD, WDGRL, CDAN, FA, SA,fMMD, CCSA\n",
        "from adapt.instance_based import KMM, LDM, KLIEP, WANN\n",
        "from adapt.parameter_based import RegularTransferLR, RegularTransferNN, RegularTransferLC, FineTuning, TransferTreeClassifier, TransferForestClassifier"
      ]
    },
    {
      "cell_type": "code",
      "execution_count": null,
      "metadata": {
        "id": "TaN6j7IGVCFg"
      },
      "outputs": [],
      "source": [
        "#import tensorflow as tf\n",
        "#device_name = tf.test.gpu_device_name()\n",
        "#if device_name != '/device:GPU:0':\n",
        "#  raise SystemError('GPU device not found')\n",
        "#print('Found GPU at: {}'.format(device_name))"
      ]
    },
    {
      "cell_type": "code",
      "execution_count": null,
      "metadata": {
        "id": "0nVBuWl8ztgX"
      },
      "outputs": [],
      "source": [
        "url3 = 'https://raw.githubusercontent.com/MaurenSguarioUTFPR/Cemig/main/Clorofila_Pixels_Captura_S2_Dados_Globais_13_Datasets.csv'\n",
        "\n",
        "data3  = pd.read_csv(url3, header=0, index_col=False, na_values='.');\n",
        "\n",
        "columns = [\"Unnamed: 0\" ,\"Sample_Date\", \"Image_Date\", \"Time_Sample\", \"Image_Hour\", \"Station_Sample\", \"Parameter\", \"Value\", \"Unit\", \"Depth\", \"Depth_Unit\", \"Local_Name\", \"Location_Type\", \"Lat\", \"Lon\", \"Country\", \"Organization_Data\", \"Hemisphere\", \"Season\", \"Source_Domain\", \"Diff_Date\", \"BAND_1\", \"BAND_2\", \"BAND_3\", \"BAND_4\", \"BAND_5\", \"BAND_6\", \"BAND_7\", \"BAND_8\", \"BAND_8A\", \"BAND_9\", \"BAND_11\", \"BAND_12\", \"MSK_CLDPRB\", \"MSK_SNOW\", \"QA60\", \"CLDYPXPER\", \"DRK_FEA_PE\", \"NDWI\", \"NBSI\", \"Water_Check\", \"Snow_Check\", \"Scene_Class\", \"geometry\"]\n",
        "data3.columns = columns"
      ]
    },
    {
      "cell_type": "code",
      "execution_count": null,
      "metadata": {
        "id": "oMm_qx2hrrud"
      },
      "outputs": [],
      "source": [
        "#dados = data3.loc[data3['Country'] == 'US']\n",
        "USA = data3.loc[data3['Source_Domain'] == 'United_States']\n",
        "Brazil = data3.loc[(data3['Source_Domain'] == 'CEMIG') | (data3['Source_Domain'] == 'Brazil')]"
      ]
    },
    {
      "cell_type": "code",
      "execution_count": null,
      "metadata": {
        "id": "xCPrziAhwPCZ"
      },
      "outputs": [],
      "source": [
        "usa = USA.loc[(USA['MSK_CLDPRB'] <= 0.0) & (USA['MSK_SNOW'] <= 0.0) & (USA['Scene_Class'] == \"Water\") & (USA['Water_Check'] != \"Drought\") & (USA['Snow_Check'] == \"No_Snow\") & (USA['QA60'] <= 0.0)]\n",
        "br = Brazil.loc[(Brazil['MSK_CLDPRB'] <= 0.0) & (Brazil['MSK_SNOW'] <= 0.0) & (Brazil['Scene_Class'] == \"Water\") & (Brazil['Water_Check'] != \"Drought\") & (Brazil['Snow_Check'] == \"No_Snow\") & (Brazil['QA60'] <= 0.0)]"
      ]
    },
    {
      "cell_type": "code",
      "execution_count": null,
      "metadata": {
        "id": "oAivFbOi48L6"
      },
      "outputs": [],
      "source": [
        "mult = 3\n",
        "\n",
        "std_reference = usa['Value'].std() * mult\n",
        "lower_std = usa['Value'].mean() - std_reference\n",
        "upper_std = usa['Value'].mean() + std_reference\n",
        "std_reference = br['Value'].std() * mult\n",
        "lower_std = br['Value'].mean() - std_reference\n",
        "upper_std = br['Value'].mean() + std_reference"
      ]
    },
    {
      "cell_type": "code",
      "execution_count": null,
      "metadata": {
        "id": "j2nuTLJN3cHD"
      },
      "outputs": [],
      "source": [
        "def std_outlier(x):\n",
        "    if ((x >= lower_std) & (x<=upper_std)):\n",
        "        return 1\n",
        "    else:\n",
        "        return -1"
      ]
    },
    {
      "cell_type": "code",
      "execution_count": null,
      "metadata": {
        "colab": {
          "base_uri": "https://localhost:8080/"
        },
        "id": "vI8t9klf341U",
        "outputId": "2d9fd6af-58ac-4c15-afe7-bfcf59a2bcd3"
      },
      "outputs": [
        {
          "name": "stderr",
          "output_type": "stream",
          "text": [
            "<ipython-input-12-5b1614f7d3c7>:1: SettingWithCopyWarning: \n",
            "A value is trying to be set on a copy of a slice from a DataFrame.\n",
            "Try using .loc[row_indexer,col_indexer] = value instead\n",
            "\n",
            "See the caveats in the documentation: https://pandas.pydata.org/pandas-docs/stable/user_guide/indexing.html#returning-a-view-versus-a-copy\n",
            "  usa['anomalies_std'] = usa['Value'].apply(std_outlier)\n",
            "<ipython-input-12-5b1614f7d3c7>:3: SettingWithCopyWarning: \n",
            "A value is trying to be set on a copy of a slice from a DataFrame.\n",
            "Try using .loc[row_indexer,col_indexer] = value instead\n",
            "\n",
            "See the caveats in the documentation: https://pandas.pydata.org/pandas-docs/stable/user_guide/indexing.html#returning-a-view-versus-a-copy\n",
            "  br['anomalies_std'] = br['Value'].apply(std_outlier)\n"
          ]
        }
      ],
      "source": [
        "usa['anomalies_std'] = usa['Value'].apply(std_outlier)\n",
        "usa = usa.query('anomalies_std == 1')\n",
        "br['anomalies_std'] = br['Value'].apply(std_outlier)\n",
        "br = br.query('anomalies_std == 1')"
      ]
    },
    {
      "cell_type": "code",
      "execution_count": null,
      "metadata": {
        "id": "273qMpo49ZbA"
      },
      "outputs": [],
      "source": [
        "del(usa['anomalies_std'])\n",
        "del(br['anomalies_std'])"
      ]
    },
    {
      "cell_type": "code",
      "execution_count": null,
      "metadata": {
        "id": "irl91UAJuHVE"
      },
      "outputs": [],
      "source": [
        "usa = usa.drop_duplicates(['BAND_1','BAND_2','BAND_3'])\n",
        "br = br.drop_duplicates(['BAND_1','BAND_2','BAND_3'])\n",
        "usa = usa.loc[(usa['Diff_Date'] <= 0)]\n",
        "br = br.loc[(br['Diff_Date'] <= 0)]"
      ]
    },
    {
      "cell_type": "code",
      "execution_count": null,
      "metadata": {
        "id": "tD-XDDsjBf6f"
      },
      "outputs": [],
      "source": [
        "usaT = usa.loc[(usa['Parameter'] == \"Chlorophyll\")]\n",
        "brT = br.loc[(br[\"Parameter\"] == \"Chlorophyll\")]"
      ]
    },
    {
      "cell_type": "code",
      "execution_count": null,
      "metadata": {
        "id": "OJqsv0iXEf-Z"
      },
      "outputs": [],
      "source": [
        "brT = brT.drop(['Unnamed: 0'], axis=1)\n",
        "brT = brT.drop(['Time_Sample'], axis=1)\n",
        "brT = brT.drop(['Image_Hour'], axis=1)\n",
        "brT = brT.drop(['Station_Sample'], axis=1)\n",
        "brT = brT.drop(['Sample_Date'], axis=1)\n",
        "brT = brT.drop(['Image_Date'], axis=1)\n",
        "brT = brT.drop(['Parameter'], axis=1)\n",
        "brT = brT.drop(['Unit'], axis=1)\n",
        "brT = brT.drop(['Depth'], axis=1)\n",
        "brT = brT.drop(['Depth_Unit'], axis=1)\n",
        "brT = brT.drop(['Local_Name'], axis=1)\n",
        "brT = brT.drop(['Location_Type'], axis=1)\n",
        "brT = brT.drop(['Country'], axis=1)\n",
        "brT = brT.drop(['Hemisphere'], axis=1)"
      ]
    },
    {
      "cell_type": "code",
      "execution_count": null,
      "metadata": {
        "id": "aG66w4YZLCOZ"
      },
      "outputs": [],
      "source": [
        "usaT = usaT.drop(['Unnamed: 0'], axis=1)\n",
        "usaT = usaT.drop(['Time_Sample'], axis=1)\n",
        "usaT = usaT.drop(['Image_Hour'], axis=1)\n",
        "usaT = usaT.drop(['Station_Sample'], axis=1)\n",
        "usaT = usaT.drop(['Sample_Date'], axis=1)\n",
        "usaT = usaT.drop(['Image_Date'], axis=1)\n",
        "usaT = usaT.drop(['Parameter'], axis=1)\n",
        "usaT = usaT.drop(['Unit'], axis=1)\n",
        "usaT = usaT.drop(['Depth'], axis=1)\n",
        "usaT = usaT.drop(['Depth_Unit'], axis=1)\n",
        "usaT = usaT.drop(['Local_Name'], axis=1)\n",
        "usaT = usaT.drop(['Location_Type'], axis=1)\n",
        "usaT = usaT.drop(['Country'], axis=1)\n",
        "usaT = usaT.drop(['Hemisphere'], axis=1)"
      ]
    },
    {
      "cell_type": "code",
      "execution_count": null,
      "metadata": {
        "id": "t7J8ESfpEwdM"
      },
      "outputs": [],
      "source": [
        "brT = brT.drop(['Season'], axis=1)\n",
        "brT = brT.drop(['Source_Domain'], axis=1)\n",
        "brT = brT.drop(['Diff_Date'], axis=1)\n",
        "brT = brT.drop(['MSK_CLDPRB'], axis=1)\n",
        "brT = brT.drop(['MSK_SNOW'], axis=1)\n",
        "brT = brT.drop(['CLDYPXPER'], axis=1)\n",
        "brT = brT.drop(['QA60'], axis=1)\n",
        "brT = brT.drop(['DRK_FEA_PE'], axis=1)\n",
        "brT = brT.drop(['NDWI'], axis=1)\n",
        "brT = brT.drop(['NBSI'], axis=1)\n",
        "brT = brT.drop(['Water_Check'], axis=1)\n",
        "brT = brT.drop(['Snow_Check'], axis=1)\n",
        "brT = brT.drop(['Scene_Class'], axis=1)\n",
        "brT = brT.drop(['geometry'], axis=1)"
      ]
    },
    {
      "cell_type": "code",
      "execution_count": null,
      "metadata": {
        "id": "qM9Ed7eWFRLF"
      },
      "outputs": [],
      "source": [
        "usaT = usaT.drop(['Season'], axis=1)\n",
        "usaT = usaT.drop(['Source_Domain'], axis=1)\n",
        "usaT = usaT.drop(['Diff_Date'], axis=1)\n",
        "usaT = usaT.drop(['MSK_CLDPRB'], axis=1)\n",
        "usaT = usaT.drop(['MSK_SNOW'], axis=1)\n",
        "usaT = usaT.drop(['CLDYPXPER'], axis=1)\n",
        "usaT = usaT.drop(['QA60'], axis=1)\n",
        "usaT = usaT.drop(['DRK_FEA_PE'], axis=1)\n",
        "usaT = usaT.drop(['NDWI'], axis=1)\n",
        "usaT = usaT.drop(['NBSI'], axis=1)\n",
        "usaT = usaT.drop(['Water_Check'], axis=1)\n",
        "usaT = usaT.drop(['Snow_Check'], axis=1)\n",
        "usaT = usaT.drop(['Scene_Class'], axis=1)\n",
        "usaT = usaT.drop(['geometry'], axis=1)\n"
      ]
    },
    {
      "cell_type": "markdown",
      "metadata": {
        "id": "_HgByTr7M6YS"
      },
      "source": [
        "# Dados "
      ]
    },
    {
      "cell_type": "code",
      "execution_count": null,
      "metadata": {
        "id": "aRgDdiOoTXAS"
      },
      "outputs": [],
      "source": [
        "def classifica_uso_residencial_malasia(x):\n",
        "        if x <= 25:\n",
        "            return \"0\"\n",
        "        else:\n",
        "            return '1'"
      ]
    },
    {
      "cell_type": "code",
      "execution_count": null,
      "metadata": {
        "id": "OxXkLWjgVVbG"
      },
      "outputs": [],
      "source": [
        "usaT['Classe'] = usaT['Value'].apply(classifica_uso_residencial_malasia)\n",
        "brT['Classe'] = brT['Value'].apply(classifica_uso_residencial_malasia)"
      ]
    },
    {
      "cell_type": "markdown",
      "metadata": {
        "id": "-uAeQktTXe1h"
      },
      "source": [
        "Pitsburg long -79.995888   lat 40.440624\n",
        "Chicago  long -87.623177   lat 41.881832\n",
        "Denver   long -104.991531  lat 39.742043\n",
        "Miami    long -80.191788   lat 25.761681"
      ]
    },
    {
      "cell_type": "markdown",
      "metadata": {
        "id": "SfTh6uMBct9Z"
      },
      "source": [
        "# Dataset 80 treino 20 teste"
      ]
    },
    {
      "cell_type": "code",
      "execution_count": null,
      "metadata": {
        "id": "AG0PPEIZhHp0"
      },
      "outputs": [],
      "source": [
        "#Xt = usaT[usaT['Lon'] < -100.991531]\n",
        "#Xs = usaT[usaT['Lon'] >= -100.991531]\n",
        "Xs = usaT\n",
        "Xt = brT"
      ]
    },
    {
      "cell_type": "code",
      "execution_count": null,
      "metadata": {
        "id": "P_fRUhQsfHee"
      },
      "outputs": [],
      "source": [
        "Xs = Xs.fillna(Xs.median(numeric_only=True))\n",
        "Xt = Xt.fillna(Xt.median(numeric_only=True))"
      ]
    },
    {
      "cell_type": "code",
      "execution_count": null,
      "metadata": {
        "id": "E--n-66YcDmo"
      },
      "outputs": [],
      "source": [
        "Xs = Xs.drop(['Value'], axis=1)\n",
        "Xs = Xs.drop(['Lat'], axis=1)\n",
        "Xs = Xs.drop(['Lon'], axis=1)\n",
        "Xs = Xs.drop(['Organization_Data'], axis=1)"
      ]
    },
    {
      "cell_type": "code",
      "execution_count": null,
      "metadata": {
        "id": "7BkU0YlbhTBj"
      },
      "outputs": [],
      "source": [
        "Xt = Xt.drop(['Value'], axis=1)\n",
        "Xt = Xt.drop(['Lat'], axis=1)\n",
        "Xt = Xt.drop(['Lon'], axis=1)\n",
        "Xt = Xt.drop(['Organization_Data'], axis=1)"
      ]
    },
    {
      "cell_type": "code",
      "execution_count": null,
      "metadata": {
        "id": "wusBAqxvCTZp"
      },
      "outputs": [],
      "source": [
        "bandas = ['BAND_1','BAND_2','BAND_3','BAND_4','BAND_5','BAND_6','BAND_7','BAND_8','BAND_8A','BAND_9','BAND_11','BAND_12']\n",
        "Xs[bandas] = Xs[bandas].multiply(0.0001)\n",
        "Xt[bandas] = Xt[bandas].multiply(0.0001)"
      ]
    },
    {
      "cell_type": "code",
      "execution_count": null,
      "metadata": {
        "id": "7qozpOmb79hv"
      },
      "outputs": [],
      "source": [
        "array = Xs.values\n",
        "Xs = array[:, 0:12].astype(float)\n",
        "ys = array[:, 12].astype(int)"
      ]
    },
    {
      "cell_type": "code",
      "execution_count": null,
      "metadata": {
        "id": "IRiU6OJuhfDw"
      },
      "outputs": [],
      "source": [
        "array = Xt.values\n",
        "Xt = array[:, 0:12].astype(float)\n",
        "yt = array[:, 12].astype(int)"
      ]
    },
    {
      "cell_type": "markdown",
      "metadata": {
        "id": "-uGeCvxiX-v8"
      },
      "source": []
    },
    {
      "cell_type": "code",
      "execution_count": null,
      "metadata": {
        "colab": {
          "base_uri": "https://localhost:8080/"
        },
        "id": "VvyE3OqmgaR5",
        "outputId": "fd480c2d-00ae-4eda-deff-710de8a73470"
      },
      "outputs": [
        {
          "name": "stdout",
          "output_type": "stream",
          "text": [
            "train_set size: 4460 - Class0: 3615, Class1: 845, Class2: 0\n",
            "test_set size: 115 - Class0: 85, Class1: 30, Class2: 0\n"
          ]
        }
      ],
      "source": [
        "print(\"train_set size: {} - Class0: {}, Class1: {}, Class2: {}\".format( len(ys), len(ys[ys == 0]), len(ys[ys == 1]), len(ys[ys == 2]) ))\n",
        "print(\"test_set size: {} - Class0: {}, Class1: {}, Class2: {}\".format( len(yt), len(yt[yt == 0]), len(yt[yt == 1]), len(yt[yt == 2]) ))"
      ]
    },
    {
      "cell_type": "markdown",
      "metadata": {
        "id": "RIPQakm3Rqs0"
      },
      "source": [
        "#Smote"
      ]
    },
    {
      "cell_type": "code",
      "execution_count": null,
      "metadata": {
        "id": "UG6C8mjfNqj9"
      },
      "outputs": [],
      "source": [
        "from imblearn.over_sampling import SMOTE\n",
        "from collections import Counter\n",
        "from numpy import where\n",
        "from matplotlib import pyplot"
      ]
    },
    {
      "cell_type": "code",
      "execution_count": null,
      "metadata": {
        "id": "y7AHfqlE_gXU"
      },
      "outputs": [],
      "source": [
        "# transform the dataset train\n",
        "oversample = SMOTE()\n",
        "Xs, ys = oversample.fit_resample(Xs, ys)"
      ]
    },
    {
      "cell_type": "code",
      "execution_count": null,
      "metadata": {
        "colab": {
          "base_uri": "https://localhost:8080/"
        },
        "id": "3GEuXdu2mnea",
        "outputId": "fcd5b2dc-89b4-4e7a-d54e-6a3dc710c97c"
      },
      "outputs": [
        {
          "name": "stdout",
          "output_type": "stream",
          "text": [
            "train_set size: 7230 - Class0: 3615, Class1: 3615, Class2: 0, Class3: 0\n",
            "test_set size: 115 - Class0: 85, Class1: 30, Class2: 0, Class3: 0\n"
          ]
        }
      ],
      "source": [
        "print(\"train_set size: {} - Class0: {}, Class1: {}, Class2: {}, Class3: {}\".format( len(ys), len(ys[ys == 0]), len(ys[ys == 1]), len(ys[ys == 2]), len(ys[ys == 3]) ))\n",
        "print(\"test_set size: {} - Class0: {}, Class1: {}, Class2: {}, Class3: {}\".format( len(yt), len(yt[yt == 0]), len(yt[yt == 1]), len(yt[yt == 2]), len(yt[yt == 3]) ))"
      ]
    },
    {
      "cell_type": "markdown",
      "metadata": {
        "id": "J82MP9FzRM2i"
      },
      "source": [
        "#Results"
      ]
    },
    {
      "cell_type": "code",
      "execution_count": null,
      "metadata": {
        "id": "pNgqyWht4q0X"
      },
      "outputs": [],
      "source": [
        "std_sc = StandardScaler().fit(np.concatenate((Xs, Xt)))\n",
        "Xs = std_sc.transform(Xs)\n",
        "Xt = std_sc.transform(Xt)"
      ]
    },
    {
      "cell_type": "code",
      "execution_count": null,
      "metadata": {
        "id": "RJSdEBx1qBqe"
      },
      "outputs": [],
      "source": [
        "def show_results2(model, is_src_only=False):\n",
        "  \n",
        "  ys_pred = model.predict(Xs)\n",
        "  yt_pred = model.predict(Xt)\n",
        "  acc_s = accuracy_score(ys, ys_pred>0.5)\n",
        "  acc_t = accuracy_score(yt, yt_pred>0.5)\n",
        "\n",
        "\n",
        "  cmT = confusion_matrix(yt, yt_pred>0.5)\n",
        "  cm_display = ConfusionMatrixDisplay(cmT).plot()\n",
        "  \n",
        "\n",
        "  print(classification_report(yt, yt_pred))  \n",
        "  \n",
        "  if is_src_only:\n",
        "  \n",
        "    print(\"Accuracy, source : %f\" % acc_s)\n",
        "    print(\"Balanced accuracy, source : %f\" % balanced_accuracy_score(ys, ys_pred>0.5))\n",
        "    print(\"Precision, source: %f\" % precision_score(ys, ys_pred>0.5))\n",
        "    print(\"Recall, source: %f\" % recall_score(ys, ys_pred>0.5))\n",
        "    print(\"F1, source: %f\" % f1_score(ys, ys_pred>0.5))\n",
        "    print(\"Area under curve (auc):, source: %f\" % roc_auc_score(ys, ys_pred>0.5))\n",
        "    print(\"Accuracy, target : %f\" % acc_t)\n",
        "    print(\"Balanced accuracy, target : %f\" % balanced_accuracy_score(yt, yt_pred>0.5))\n",
        "    print(\"Precision, target: %f\" % precision_score(yt, yt_pred>0.5))\n",
        "    print(\"Recall, target: %f\" % recall_score(yt, yt_pred>0.5))\n",
        "    print(\"F1, target: %f\" % f1_score(yt, yt_pred>0.5))\n",
        "    print(\"Area under curve (auc):, target: %f\" % roc_auc_score(yt, yt_pred>0.5))\n",
        "  else: \n",
        "    \n",
        "    print(\"Accuracy, source : %f\" % acc_s)\n",
        "    print(\"Balanced accuracy, source : %f\" % balanced_accuracy_score(ys, ys_pred>0.5))\n",
        "    print(\"Precision, source: %f\" % precision_score(ys, ys_pred>0.5))\n",
        "    print(\"Recall, source: %f\" % recall_score(ys, ys_pred>0.5))\n",
        "    print(\"F1, source: %f\" % f1_score(ys, ys_pred>0.5))\n",
        "    print(\"Area under curve (auc):, source: %f\" % roc_auc_score(ys, ys_pred>0.5))\n",
        "    print(\"Accuracy, target : %f\" % acc_t)\n",
        "    print(\"Balanced accuracy, target : %f\" % balanced_accuracy_score(yt, yt_pred>0.5))\n",
        "    print(\"Precision, target: %f\" % precision_score(yt, yt_pred>0.5))\n",
        "    print(\"Recall, target: %f\" % recall_score(yt, yt_pred>0.5))\n",
        "    print(\"F1, target: %f\" % f1_score(yt, yt_pred>0.5))\n",
        "    print(\"Area under curve (auc):, target: %f\" % roc_auc_score(yt, yt_pred>0.5))\n",
        " \n"
      ]
    },
    {
      "cell_type": "code",
      "execution_count": null,
      "metadata": {
        "id": "uL0Q2UXSS7Uv"
      },
      "outputs": [],
      "source": [
        "def show_results(model, is_src_only=False):\n",
        "  \n",
        "  ys_pred = model.predict(Xs)\n",
        "  yt_pred = model.predict(Xt)\n",
        "  acc_s = accuracy_score(ys, ys_pred>0.5)\n",
        "  acc_t = accuracy_score(yt, yt_pred>0.5)\n",
        "\n",
        "  print(classification_report(yt, yt_pred>0.5))\n",
        "\n",
        "  if is_src_only:\n",
        "    print(\"ok\")\n",
        "    print(\"Accuracy, source : %f\" % acc_s)\n",
        "    print(\"Balanced accuracy, source : %f\" % balanced_accuracy_score(ys, ys_pred>0.5))\n",
        "    print(\"Precision, source: %f\" % precision_score(ys, ys_pred>0.5))\n",
        "    print(\"Recall, source: %f\" % recall_score(ys, ys_pred>0.5))\n",
        "    print(\"F1, source: %f\" % f1_score(ys, ys_pred>0.5))\n",
        "    print(\"Area under curve (auc):, source: %f\" % roc_auc_score(ys, ys_pred>0.5))\n",
        "    print(\"Accuracy, target : %f\" % acc_t)\n",
        "    print(\"Balanced accuracy, target : %f\" % balanced_accuracy_score(yt, yt_pred>0.5))\n",
        "    print(\"Precision, target: %f\" % precision_score(yt, yt_pred>0.5))\n",
        "    print(\"Recall, target: %f\" % recall_score(yt, yt_pred>0.5))\n",
        "    print(\"F1, target: %f\" % f1_score(yt, yt_pred>0.5))\n",
        "    print(\"Area under curve (auc):, target: %f\" % roc_auc_score(yt, yt_pred>0.5))\n",
        "  else:  \n",
        "    cmT = confusion_matrix(yt, yt_pred>0.5)\n",
        "    print(\"Accuracy, target : %f\" % acc_t)\n",
        "    print(\"Balanced accuracy, target : %f\" % balanced_accuracy_score(yt, yt_pred>0.5))\n",
        "    #print(\"Precision, target: %f\" % precision_score(yt, yt_pred>0.5, average='weighted'))\n",
        "    print(\"Precision, target: %f\" % precision_score(yt, yt_pred>0.5))\n",
        "    print(\"Recall, target: %f\" % recall_score(yt, yt_pred>0.5))\n",
        "    print(\"F1, target: %f\" % f1_score(yt, yt_pred>0.5))\n",
        "\n",
        "  \n",
        " "
      ]
    },
    {
      "cell_type": "markdown",
      "metadata": {
        "id": "rlk8xua8Rz0z"
      },
      "source": [
        "# SVM"
      ]
    },
    {
      "cell_type": "code",
      "execution_count": null,
      "metadata": {
        "id": "xBgsCOOpS8PZ"
      },
      "outputs": [],
      "source": [
        "x_min = np.min(Xs.min(0))\n",
        "y_min = np.min(Xt.min(0))\n",
        "x_max = np.max(Xs.max(0))\n",
        "y_max = np.max(Xt.max(0))"
      ]
    },
    {
      "cell_type": "code",
      "execution_count": null,
      "metadata": {
        "colab": {
          "base_uri": "https://localhost:8080/"
        },
        "id": "25OFYBB1LEdB",
        "outputId": "c411308a-9ed7-46ca-f487-446a45d55c59"
      },
      "outputs": [
        {
          "name": "stdout",
          "output_type": "stream",
          "text": [
            "Model accuracy score with polynomial kernel and C=1.0 : 0.8000\n"
          ]
        }
      ],
      "source": [
        "# instantiate classifier with polynomial kernel and C=100.0\n",
        "poly_svc100=SVC(kernel='poly', C=100.0) \n",
        "\n",
        "# fit classifier to training set\n",
        "poly_svc100.fit(Xs, ys)\n",
        "\n",
        "# make predictions on test set\n",
        "y_pred=poly_svc100.predict(Xt)\n",
        "\n",
        "# compute and print accuracy score\n",
        "print('Model accuracy score with polynomial kernel and C=1.0 : {0:0.4f}'. format(accuracy_score(yt, y_pred)))"
      ]
    },
    {
      "cell_type": "code",
      "execution_count": null,
      "metadata": {
        "colab": {
          "base_uri": "https://localhost:8080/",
          "height": 411
        },
        "id": "TS3OQ2RNtBZ9",
        "outputId": "c4ae5dcf-d5a4-4d26-eb8f-c289cd8986f9"
      },
      "outputs": [
        {
          "name": "stdout",
          "output_type": "stream",
          "text": [
            "              precision    recall  f1-score   support\n",
            "\n",
            "           0       0.91      0.81      0.86        85\n",
            "           1       0.59      0.77      0.67        30\n",
            "\n",
            "    accuracy                           0.80       115\n",
            "   macro avg       0.75      0.79      0.76       115\n",
            "weighted avg       0.82      0.80      0.81       115\n",
            "\n",
            "Accuracy, source : 0.856570\n",
            "Balanced accuracy, source : 0.856570\n",
            "Precision, source: 0.827324\n",
            "Recall, source: 0.901245\n",
            "F1, source: 0.862704\n",
            "Area under curve (auc):, source: 0.856570\n",
            "Accuracy, target : 0.800000\n",
            "Balanced accuracy, target : 0.789216\n",
            "Precision, target: 0.589744\n",
            "Recall, target: 0.766667\n",
            "F1, target: 0.666667\n",
            "Area under curve (auc):, target: 0.789216\n"
          ]
        },
        {
          "data": {
            "image/png": "[encoded data removed]",
            "text/plain": [
              "<Figure size 432x288 with 2 Axes>"
            ]
          },
          "metadata": {},
          "output_type": "display_data"
        }
      ],
      "source": [
        "show_results2(poly_svc100)"
      ]
    },
    {
      "cell_type": "markdown",
      "metadata": {
        "id": "NAI1BHM9oJV7"
      },
      "source": [
        "#DANN"
      ]
    },
    {
      "cell_type": "code",
      "execution_count": null,
      "metadata": {
        "colab": {
          "base_uri": "https://localhost:8080/"
        },
        "id": "wJ4ndWVQoOVC",
        "outputId": "720af311-a00a-475c-d32a-427ad05433fb"
      },
      "outputs": [
        {
          "name": "stdout",
          "output_type": "stream",
          "text": [
            "1/1 [==============================] - 0s 179ms/step - loss: 0.1606 - acc: 0.7652\n"
          ]
        },
        {
          "data": {
            "text/plain": [
              "0.16057877242565155"
            ]
          },
          "execution_count": 40,
          "metadata": {},
          "output_type": "execute_result"
        }
      ],
      "source": [
        "dann = DANN(lambda_=0.1, Xt=Xt, metrics=[\"acc\"], random_state=0)\n",
        "dann.fit(Xs, ys, epochs=100, verbose=0)\n",
        "dann.score(Xt, yt)"
      ]
    },
    {
      "cell_type": "code",
      "execution_count": null,
      "metadata": {
        "colab": {
          "base_uri": "https://localhost:8080/"
        },
        "id": "Z_r7YzBmorPs",
        "outputId": "6179dd1c-389b-4d5e-d5d4-b321cfde1454"
      },
      "outputs": [
        {
          "name": "stdout",
          "output_type": "stream",
          "text": [
            "              precision    recall  f1-score   support\n",
            "\n",
            "           0       0.90      0.76      0.83        85\n",
            "           1       0.53      0.77      0.63        30\n",
            "\n",
            "    accuracy                           0.77       115\n",
            "   macro avg       0.72      0.77      0.73       115\n",
            "weighted avg       0.81      0.77      0.78       115\n",
            "\n",
            "ok\n",
            "Accuracy, source : 0.884786\n",
            "Balanced accuracy, source : 0.884786\n",
            "Precision, source: 0.862617\n",
            "Recall, source: 0.915353\n",
            "F1, source: 0.888203\n",
            "Area under curve (auc):, source: 0.884786\n",
            "Accuracy, target : 0.765217\n",
            "Balanced accuracy, target : 0.765686\n",
            "Precision, target: 0.534884\n",
            "Recall, target: 0.766667\n",
            "F1, target: 0.630137\n",
            "Area under curve (auc):, target: 0.765686\n"
          ]
        }
      ],
      "source": [
        "show_results(dann, True)"
      ]
    },
    {
      "cell_type": "markdown",
      "metadata": {
        "id": "lJNntDtRpHGF"
      },
      "source": [
        "ADDA"
      ]
    },
    {
      "cell_type": "code",
      "execution_count": null,
      "metadata": {
        "colab": {
          "base_uri": "https://localhost:8080/"
        },
        "id": "Ch6G7xoOpWl2",
        "outputId": "d05d62a6-fcc7-43a6-c6b1-c0e4f9035db9"
      },
      "outputs": [
        {
          "name": "stdout",
          "output_type": "stream",
          "text": [
            "1/1 [==============================] - 0s 227ms/step - loss: 0.3851 - acc: 0.5217\n"
          ]
        },
        {
          "data": {
            "text/plain": [
              "0.3850644528865814"
            ]
          },
          "execution_count": 42,
          "metadata": {},
          "output_type": "execute_result"
        }
      ],
      "source": [
        "adda = ADDA(Xt=Xt, metrics=[\"acc\"], random_state=0)\n",
        "adda.fit(Xs, ys, epochs=800, verbose=0)\n",
        "adda.score(Xt, yt)"
      ]
    },
    {
      "cell_type": "code",
      "execution_count": null,
      "metadata": {
        "colab": {
          "base_uri": "https://localhost:8080/"
        },
        "id": "icBmeWezpgY6",
        "outputId": "8edfae11-867d-4b36-c7f1-5d4367f4fe6c"
      },
      "outputs": [
        {
          "name": "stdout",
          "output_type": "stream",
          "text": [
            "              precision    recall  f1-score   support\n",
            "\n",
            "           0       0.78      0.49      0.60        85\n",
            "           1       0.30      0.60      0.40        30\n",
            "\n",
            "    accuracy                           0.52       115\n",
            "   macro avg       0.54      0.55      0.50       115\n",
            "weighted avg       0.65      0.52      0.55       115\n",
            "\n",
            "ok\n",
            "Accuracy, source : 0.643707\n",
            "Balanced accuracy, source : 0.643707\n",
            "Precision, source: 0.614000\n",
            "Recall, source: 0.773997\n",
            "F1, source: 0.684777\n",
            "Area under curve (auc):, source: 0.643707\n",
            "Accuracy, target : 0.521739\n",
            "Balanced accuracy, target : 0.547059\n",
            "Precision, target: 0.295082\n",
            "Recall, target: 0.600000\n",
            "F1, target: 0.395604\n",
            "Area under curve (auc):, target: 0.547059\n"
          ]
        }
      ],
      "source": [
        "show_results(adda, True)"
      ]
    },
    {
      "cell_type": "markdown",
      "metadata": {
        "id": "kFGpLcISpJmp"
      },
      "source": [
        "WDGRL"
      ]
    },
    {
      "cell_type": "code",
      "execution_count": null,
      "metadata": {
        "colab": {
          "base_uri": "https://localhost:8080/"
        },
        "id": "38HnYptBprFV",
        "outputId": "74060492-1a5c-4491-ad4f-ba2ac9272038"
      },
      "outputs": [
        {
          "name": "stdout",
          "output_type": "stream",
          "text": [
            "1/1 [==============================] - 0s 126ms/step - loss: 0.1377 - acc: 0.8174\n"
          ]
        },
        {
          "data": {
            "text/plain": [
              "0.1376761496067047"
            ]
          },
          "execution_count": 44,
          "metadata": {},
          "output_type": "execute_result"
        }
      ],
      "source": [
        "wdgrl = WDGRL(lambda_=1., gamma=1., Xt=Xt, metrics=[\"acc\"], random_state=0)\n",
        "wdgrl.fit(Xs, ys, epochs=800, verbose=0)\n",
        "wdgrl.score(Xt, yt)"
      ]
    },
    {
      "cell_type": "code",
      "execution_count": null,
      "metadata": {
        "colab": {
          "base_uri": "https://localhost:8080/"
        },
        "id": "xtv0h5yOpx8H",
        "outputId": "fb732398-4927-4212-a3b6-b7ffed53f007"
      },
      "outputs": [
        {
          "name": "stdout",
          "output_type": "stream",
          "text": [
            "              precision    recall  f1-score   support\n",
            "\n",
            "           0       0.92      0.82      0.87        85\n",
            "           1       0.62      0.80      0.70        30\n",
            "\n",
            "    accuracy                           0.82       115\n",
            "   macro avg       0.77      0.81      0.78       115\n",
            "weighted avg       0.84      0.82      0.82       115\n",
            "\n",
            "ok\n",
            "Accuracy, source : 0.901660\n",
            "Balanced accuracy, source : 0.901660\n",
            "Precision, source: 0.878519\n",
            "Recall, source: 0.932227\n",
            "F1, source: 0.904577\n",
            "Area under curve (auc):, source: 0.901660\n",
            "Accuracy, target : 0.817391\n",
            "Balanced accuracy, target : 0.811765\n",
            "Precision, target: 0.615385\n",
            "Recall, target: 0.800000\n",
            "F1, target: 0.695652\n",
            "Area under curve (auc):, target: 0.811765\n"
          ]
        }
      ],
      "source": [
        "show_results(wdgrl, True)"
      ]
    },
    {
      "cell_type": "markdown",
      "metadata": {
        "id": "LQyB-2rQpRDU"
      },
      "source": [
        "CDAN"
      ]
    },
    {
      "cell_type": "markdown",
      "metadata": {
        "id": "b32ymIo-zuWn"
      },
      "source": [
        "KMM"
      ]
    },
    {
      "cell_type": "code",
      "execution_count": null,
      "metadata": {
        "id": "nWXBQrI-zd0h"
      },
      "outputs": [],
      "source": [
        "kmm = KMM(\n",
        "    estimator=SVC(kernel='poly', C=100.0) ,\n",
        "    Xt=Xt,\n",
        "    gamma=1.,     # Bandwidth of the kernel\n",
        "    verbose=0,\n",
        "    random_state=0\n",
        ")"
      ]
    },
    {
      "cell_type": "code",
      "execution_count": null,
      "metadata": {
        "colab": {
          "base_uri": "https://localhost:8080/"
        },
        "id": "B6ZaTTtH0HMT",
        "outputId": "e89b1816-a288-47f9-8aaf-3c1e7afd7b45"
      },
      "outputs": [
        {
          "data": {
            "text/plain": [
              "0.8347826086956521"
            ]
          },
          "execution_count": 47,
          "metadata": {},
          "output_type": "execute_result"
        }
      ],
      "source": [
        "# Fit the model.\n",
        "kmm.fit(Xs, ys);\n",
        "\n",
        "# Get the score on target data\n",
        "kmm.score(Xt, yt)"
      ]
    },
    {
      "cell_type": "code",
      "execution_count": null,
      "metadata": {
        "colab": {
          "base_uri": "https://localhost:8080/",
          "height": 411
        },
        "id": "XM9362sfebzn",
        "outputId": "f169025f-cedc-4859-9053-6ba2af919322"
      },
      "outputs": [
        {
          "name": "stdout",
          "output_type": "stream",
          "text": [
            "              precision    recall  f1-score   support\n",
            "\n",
            "           0       0.89      0.88      0.89        85\n",
            "           1       0.68      0.70      0.69        30\n",
            "\n",
            "    accuracy                           0.83       115\n",
            "   macro avg       0.79      0.79      0.79       115\n",
            "weighted avg       0.84      0.83      0.84       115\n",
            "\n",
            "Accuracy, source : 0.837068\n",
            "Balanced accuracy, source : 0.837068\n",
            "Precision, source: 0.844891\n",
            "Recall, source: 0.825726\n",
            "F1, source: 0.835199\n",
            "Area under curve (auc):, source: 0.837068\n",
            "Accuracy, target : 0.834783\n",
            "Balanced accuracy, target : 0.791176\n",
            "Precision, target: 0.677419\n",
            "Recall, target: 0.700000\n",
            "F1, target: 0.688525\n",
            "Area under curve (auc):, target: 0.791176\n"
          ]
        },
        {
          "data": {
            "image/png": "[encoded data removed]",
            "text/plain": [
              "<Figure size 432x288 with 2 Axes>"
            ]
          },
          "metadata": {},
          "output_type": "display_data"
        }
      ],
      "source": [
        "show_results2(kmm, True)"
      ]
    },
    {
      "cell_type": "markdown",
      "metadata": {
        "id": "BzRV7FNF1VWe"
      },
      "source": [
        "Coral"
      ]
    },
    {
      "cell_type": "code",
      "execution_count": null,
      "metadata": {
        "colab": {
          "base_uri": "https://localhost:8080/"
        },
        "id": "0663p-nMd37O",
        "outputId": "d5aba3c6-8338-4bcd-b6a6-33cbd6f48e08"
      },
      "outputs": [
        {
          "name": "stdout",
          "output_type": "stream",
          "text": [
            "Fit transform...\n",
            "Previous covariance difference: 0.179278\n",
            "New covariance difference: 0.000002\n",
            "Fit Estimator...\n"
          ]
        },
        {
          "data": {
            "text/plain": [
              "0.7652173913043478"
            ]
          },
          "execution_count": 49,
          "metadata": {},
          "output_type": "execute_result"
        }
      ],
      "source": [
        "coral = CORAL(\n",
        "    estimator=SVC(kernel='poly', C=100.0), \n",
        "    Xt=Xt, random_state=0)\n",
        "\n",
        "coral.fit(Xs, ys)\n",
        "coral.score(Xt, yt)"
      ]
    },
    {
      "cell_type": "code",
      "execution_count": null,
      "metadata": {
        "colab": {
          "base_uri": "https://localhost:8080/",
          "height": 411
        },
        "id": "pLRYEgOc1HsO",
        "outputId": "7e5ac444-bc92-49bd-e1d1-260c09f8ce41"
      },
      "outputs": [
        {
          "name": "stdout",
          "output_type": "stream",
          "text": [
            "              precision    recall  f1-score   support\n",
            "\n",
            "           0       0.88      0.79      0.83        85\n",
            "           1       0.54      0.70      0.61        30\n",
            "\n",
            "    accuracy                           0.77       115\n",
            "   macro avg       0.71      0.74      0.72       115\n",
            "weighted avg       0.79      0.77      0.77       115\n",
            "\n",
            "Accuracy, source : 0.821024\n",
            "Balanced accuracy, source : 0.821024\n",
            "Precision, source: 0.818207\n",
            "Recall, source: 0.825450\n",
            "F1, source: 0.821812\n",
            "Area under curve (auc):, source: 0.821024\n",
            "Accuracy, target : 0.765217\n",
            "Balanced accuracy, target : 0.744118\n",
            "Precision, target: 0.538462\n",
            "Recall, target: 0.700000\n",
            "F1, target: 0.608696\n",
            "Area under curve (auc):, target: 0.744118\n"
          ]
        },
        {
          "data": {
            "image/png": "[encoded data removed]",
            "text/plain": [
              "<Figure size 432x288 with 2 Axes>"
            ]
          },
          "metadata": {},
          "output_type": "display_data"
        }
      ],
      "source": [
        "show_results2(coral, True)"
      ]
    },
    {
      "cell_type": "markdown",
      "metadata": {
        "id": "rp7i-Px6NMTM"
      },
      "source": [
        "TCA"
      ]
    },
    {
      "cell_type": "code",
      "execution_count": null,
      "metadata": {
        "id": "JZMqdpvs2AQD"
      },
      "outputs": [],
      "source": [
        "#tca = TCA(estimator=SVC(kernel='poly', C=100.0), Xt=Xt, n_components=1, mu=0.1, \n",
        "            #kernel=\"rbf\", gamma=0.1, verbose=0, random_state=0)"
      ]
    },
    {
      "cell_type": "code",
      "execution_count": null,
      "metadata": {
        "id": "5xA3O0p3OJx8"
      },
      "outputs": [],
      "source": [
        "#tca.fit(Xs, ys)\n",
        "#tca.score(Xt, yt)      "
      ]
    },
    {
      "cell_type": "code",
      "execution_count": null,
      "metadata": {
        "id": "QXOtInRfeR31"
      },
      "outputs": [],
      "source": [
        "#show_results2(tca, True)"
      ]
    },
    {
      "cell_type": "markdown",
      "metadata": {
        "id": "Vql8bKi_3MzT"
      },
      "source": [
        "FA"
      ]
    },
    {
      "cell_type": "code",
      "execution_count": null,
      "metadata": {
        "id": "ZakkIJWF3Ost"
      },
      "outputs": [],
      "source": [
        "fa = FA(estimator=SVC(kernel='poly', C=100.0), Xt=Xt[:10], yt=yt[:10], random_state=0)"
      ]
    },
    {
      "cell_type": "code",
      "execution_count": null,
      "metadata": {
        "colab": {
          "base_uri": "https://localhost:8080/",
          "height": 479
        },
        "id": "B98zyX303jq_",
        "outputId": "f5910971-39f7-4cdc-8693-324ca0e11c3f"
      },
      "outputs": [
        {
          "name": "stdout",
          "output_type": "stream",
          "text": [
            "Fit transform...\n",
            "Previous shape: (7230, 12)\n",
            "New shape: (7240, 36)\n",
            "Fit Estimator...\n",
            "              precision    recall  f1-score   support\n",
            "\n",
            "           0       0.91      0.59      0.71        85\n",
            "           1       0.42      0.83      0.56        30\n",
            "\n",
            "    accuracy                           0.65       115\n",
            "   macro avg       0.66      0.71      0.63       115\n",
            "weighted avg       0.78      0.65      0.67       115\n",
            "\n",
            "Accuracy, source : 0.598617\n",
            "Balanced accuracy, source : 0.598617\n",
            "Precision, source: 0.567995\n",
            "Recall, source: 0.823790\n",
            "F1, source: 0.672387\n",
            "Area under curve (auc):, source: 0.598617\n",
            "Accuracy, target : 0.652174\n",
            "Balanced accuracy, target : 0.710784\n",
            "Precision, target: 0.416667\n",
            "Recall, target: 0.833333\n",
            "F1, target: 0.555556\n",
            "Area under curve (auc):, target: 0.710784\n"
          ]
        },
        {
          "data": {
            "image/png": "[encoded data removed]",
            "text/plain": [
              "<Figure size 432x288 with 2 Axes>"
            ]
          },
          "metadata": {},
          "output_type": "display_data"
        }
      ],
      "source": [
        "fa.fit(Xs, ys)\n",
        "fa.score(Xt, yt)\n",
        "show_results2(fa, True) "
      ]
    },
    {
      "cell_type": "markdown",
      "metadata": {
        "id": "E0NBw403dtws"
      },
      "source": [
        "SA"
      ]
    },
    {
      "cell_type": "code",
      "execution_count": null,
      "metadata": {
        "colab": {
          "base_uri": "https://localhost:8080/"
        },
        "id": "uHkrB4puO0tl",
        "outputId": "c4378013-f125-492f-8971-2ab02d44d2e2"
      },
      "outputs": [
        {
          "name": "stdout",
          "output_type": "stream",
          "text": [
            "Fit transform...\n",
            "Fit Estimator...\n"
          ]
        },
        {
          "data": {
            "text/plain": [
              "0.6695652173913044"
            ]
          },
          "execution_count": 56,
          "metadata": {},
          "output_type": "execute_result"
        }
      ],
      "source": [
        "sa = SA(estimator=SVC(kernel='poly', C=100.0), Xt=Xt, random_state=0)\n",
        "sa.fit(Xs, ys)\n",
        "sa.score(Xt, yt)"
      ]
    },
    {
      "cell_type": "code",
      "execution_count": null,
      "metadata": {
        "colab": {
          "base_uri": "https://localhost:8080/",
          "height": 411
        },
        "id": "_6AjDuDLeYun",
        "outputId": "04a92680-05d3-4a24-9b9a-d0c2433a2666"
      },
      "outputs": [
        {
          "name": "stdout",
          "output_type": "stream",
          "text": [
            "              precision    recall  f1-score   support\n",
            "\n",
            "           0       0.94      0.59      0.72        85\n",
            "           1       0.44      0.90      0.59        30\n",
            "\n",
            "    accuracy                           0.67       115\n",
            "   macro avg       0.69      0.74      0.66       115\n",
            "weighted avg       0.81      0.67      0.69       115\n",
            "\n",
            "Accuracy, source : 0.712172\n",
            "Balanced accuracy, source : 0.712172\n",
            "Precision, source: 0.636283\n",
            "Recall, source: 0.990595\n",
            "F1, source: 0.774857\n",
            "Area under curve (auc):, source: 0.712172\n",
            "Accuracy, target : 0.669565\n",
            "Balanced accuracy, target : 0.744118\n",
            "Precision, target: 0.435484\n",
            "Recall, target: 0.900000\n",
            "F1, target: 0.586957\n",
            "Area under curve (auc):, target: 0.744118\n"
          ]
        },
        {
          "data": {
            "image/png": "[encoded data removed]",
            "text/plain": [
              "<Figure size 432x288 with 2 Axes>"
            ]
          },
          "metadata": {},
          "output_type": "display_data"
        }
      ],
      "source": [
        "show_results2(sa, True)"
      ]
    },
    {
      "cell_type": "markdown",
      "metadata": {
        "id": "CVeaX3s-405z"
      },
      "source": [
        "fMMD"
      ]
    },
    {
      "cell_type": "code",
      "execution_count": null,
      "metadata": {
        "colab": {
          "background_save": true
        },
        "id": "4b2OD7qp52K1",
        "outputId": "9323c7d1-9ae3-42e9-d7f6-d3a9e8a8112e"
      },
      "outputs": [
        {
          "ename": "KeyboardInterrupt",
          "evalue": "ignored",
          "output_type": "error",
          "traceback": [
            "\u001b[0;31m---------------------------------------------------------------------------\u001b[0m",
            "\u001b[0;31mKeyboardInterrupt\u001b[0m                         Traceback (most recent call last)",
            "\u001b[0;32m<ipython-input-58-0ce0b4e89cbe>\u001b[0m in \u001b[0;36m<module>\u001b[0;34m\u001b[0m\n\u001b[1;32m      1\u001b[0m fmmd = fMMD(estimator=SVC(kernel='poly', C=100.0),\n\u001b[1;32m      2\u001b[0m              Xt=Xt, kernel=\"linear\", random_state=0, verbose=0)\n\u001b[0;32m----> 3\u001b[0;31m \u001b[0mfmmd\u001b[0m\u001b[0;34m.\u001b[0m\u001b[0mfit\u001b[0m\u001b[0;34m(\u001b[0m\u001b[0mXs\u001b[0m\u001b[0;34m,\u001b[0m \u001b[0mys\u001b[0m\u001b[0;34m)\u001b[0m\u001b[0;34m\u001b[0m\u001b[0;34m\u001b[0m\u001b[0m\n\u001b[0m\u001b[1;32m      4\u001b[0m \u001b[0mfmmd\u001b[0m\u001b[0;34m.\u001b[0m\u001b[0mscore\u001b[0m\u001b[0;34m(\u001b[0m\u001b[0mXt\u001b[0m\u001b[0;34m,\u001b[0m \u001b[0myt\u001b[0m\u001b[0;34m)\u001b[0m\u001b[0;34m\u001b[0m\u001b[0;34m\u001b[0m\u001b[0m\n\u001b[1;32m      5\u001b[0m \u001b[0mshow_results2\u001b[0m\u001b[0;34m(\u001b[0m\u001b[0mfmmd\u001b[0m\u001b[0;34m,\u001b[0m \u001b[0;32mTrue\u001b[0m\u001b[0;34m)\u001b[0m\u001b[0;34m\u001b[0m\u001b[0;34m\u001b[0m\u001b[0m\n",
            "\u001b[0;32m/usr/local/lib/python3.8/dist-packages/adapt/base.py\u001b[0m in \u001b[0;36mfit\u001b[0;34m(self, X, y, Xt, yt, domains, **fit_params)\u001b[0m\n\u001b[1;32m    493\u001b[0m             \u001b[0;32mif\u001b[0m \u001b[0mself\u001b[0m\u001b[0;34m.\u001b[0m\u001b[0mverbose\u001b[0m\u001b[0;34m:\u001b[0m\u001b[0;34m\u001b[0m\u001b[0;34m\u001b[0m\u001b[0m\n\u001b[1;32m    494\u001b[0m                 \u001b[0mprint\u001b[0m\u001b[0;34m(\u001b[0m\u001b[0;34m\"Fit transform...\"\u001b[0m\u001b[0;34m)\u001b[0m\u001b[0;34m\u001b[0m\u001b[0;34m\u001b[0m\u001b[0m\n\u001b[0;32m--> 495\u001b[0;31m             out = self.fit_transform(Xs=X, Xt=Xt,\n\u001b[0m\u001b[1;32m    496\u001b[0m                                      \u001b[0mys\u001b[0m\u001b[0;34m=\u001b[0m\u001b[0my\u001b[0m\u001b[0;34m,\u001b[0m \u001b[0myt\u001b[0m\u001b[0;34m=\u001b[0m\u001b[0myt\u001b[0m\u001b[0;34m,\u001b[0m\u001b[0;34m\u001b[0m\u001b[0;34m\u001b[0m\u001b[0m\n\u001b[1;32m    497\u001b[0m                                      domains=domains)\n",
            "\u001b[0;32m/usr/local/lib/python3.8/dist-packages/adapt/feature_based/_fmmd.py\u001b[0m in \u001b[0;36mfit_transform\u001b[0;34m(self, Xs, Xt, **kwargs)\u001b[0m\n\u001b[1;32m    211\u001b[0m         \u001b[0mp\u001b[0m \u001b[0;34m=\u001b[0m \u001b[0mXs\u001b[0m\u001b[0;34m.\u001b[0m\u001b[0mshape\u001b[0m\u001b[0;34m[\u001b[0m\u001b[0;36m1\u001b[0m\u001b[0;34m]\u001b[0m\u001b[0;34m\u001b[0m\u001b[0;34m\u001b[0m\u001b[0m\n\u001b[1;32m    212\u001b[0m \u001b[0;34m\u001b[0m\u001b[0m\n\u001b[0;32m--> 213\u001b[0;31m         optim_func = _get_optim_function(tf.identity(Xs),\n\u001b[0m\u001b[1;32m    214\u001b[0m                                          \u001b[0mtf\u001b[0m\u001b[0;34m.\u001b[0m\u001b[0midentity\u001b[0m\u001b[0;34m(\u001b[0m\u001b[0mXt\u001b[0m\u001b[0;34m)\u001b[0m\u001b[0;34m,\u001b[0m\u001b[0;34m\u001b[0m\u001b[0;34m\u001b[0m\u001b[0m\n\u001b[1;32m    215\u001b[0m                                          \u001b[0mself\u001b[0m\u001b[0;34m.\u001b[0m\u001b[0mkernel\u001b[0m\u001b[0;34m,\u001b[0m\u001b[0;34m\u001b[0m\u001b[0;34m\u001b[0m\u001b[0m\n",
            "\u001b[0;32m/usr/local/lib/python3.8/dist-packages/cvxopt/cvxprog.py\u001b[0m in \u001b[0;36mcp\u001b[0;34m(F, G, h, dims, A, b, kktsolver, xnewcopy, xdot, xaxpy, xscal, ynewcopy, ydot, yaxpy, yscal, **kwargs)\u001b[0m\n\u001b[1;32m   1963\u001b[0m         \u001b[0mx\u001b[0m\u001b[0;34m[\u001b[0m\u001b[0;36m1\u001b[0m\u001b[0;34m]\u001b[0m \u001b[0;34m*=\u001b[0m \u001b[0malpha\u001b[0m\u001b[0;34m\u001b[0m\u001b[0;34m\u001b[0m\u001b[0m\n\u001b[1;32m   1964\u001b[0m \u001b[0;34m\u001b[0m\u001b[0m\n\u001b[0;32m-> 1965\u001b[0;31m     sol = cpl(c, F_e, G_e, h, dims, A_e, b, kktsolver_e, xnewcopy_e, \n\u001b[0m\u001b[1;32m   1966\u001b[0m          xdot_e, xaxpy_e, xscal_e, options = options)\n\u001b[1;32m   1967\u001b[0m \u001b[0;34m\u001b[0m\u001b[0m\n",
            "\u001b[0;32m/usr/local/lib/python3.8/dist-packages/cvxopt/cvxprog.py\u001b[0m in \u001b[0;36mcpl\u001b[0;34m(c, F, G, h, dims, A, b, kktsolver, xnewcopy, xdot, xaxpy, xscal, ynewcopy, ydot, yaxpy, yscal, **kwargs)\u001b[0m\n\u001b[1;32m    625\u001b[0m         \u001b[0;32mif\u001b[0m \u001b[0mrefinement\u001b[0m \u001b[0;32mor\u001b[0m \u001b[0mDEBUG\u001b[0m\u001b[0;34m:\u001b[0m\u001b[0;34m\u001b[0m\u001b[0;34m\u001b[0m\u001b[0m\n\u001b[1;32m    626\u001b[0m             \u001b[0;31m# We need H to compute residuals of KKT equations.\u001b[0m\u001b[0;34m\u001b[0m\u001b[0;34m\u001b[0m\u001b[0;34m\u001b[0m\u001b[0m\n\u001b[0;32m--> 627\u001b[0;31m             \u001b[0mf\u001b[0m\u001b[0;34m,\u001b[0m \u001b[0mDf\u001b[0m\u001b[0;34m,\u001b[0m \u001b[0mH\u001b[0m \u001b[0;34m=\u001b[0m \u001b[0mF\u001b[0m\u001b[0;34m(\u001b[0m\u001b[0mx\u001b[0m\u001b[0;34m,\u001b[0m \u001b[0mz\u001b[0m\u001b[0;34m[\u001b[0m\u001b[0;34m:\u001b[0m\u001b[0mmnl\u001b[0m\u001b[0;34m]\u001b[0m\u001b[0;34m)\u001b[0m\u001b[0;34m\u001b[0m\u001b[0;34m\u001b[0m\u001b[0m\n\u001b[0m\u001b[1;32m    628\u001b[0m         \u001b[0;32melse\u001b[0m\u001b[0;34m:\u001b[0m\u001b[0;34m\u001b[0m\u001b[0;34m\u001b[0m\u001b[0m\n\u001b[1;32m    629\u001b[0m             \u001b[0mf\u001b[0m\u001b[0;34m,\u001b[0m \u001b[0mDf\u001b[0m \u001b[0;34m=\u001b[0m \u001b[0mF\u001b[0m\u001b[0;34m(\u001b[0m\u001b[0mx\u001b[0m\u001b[0;34m)\u001b[0m\u001b[0;34m\u001b[0m\u001b[0;34m\u001b[0m\u001b[0m\n",
            "\u001b[0;32m/usr/local/lib/python3.8/dist-packages/cvxopt/cvxprog.py\u001b[0m in \u001b[0;36mkktsolver_e\u001b[0;34m(x, znl, W)\u001b[0m\n\u001b[1;32m   1899\u001b[0m         \u001b[0mWe\u001b[0m\u001b[0;34m[\u001b[0m\u001b[0;34m'dnl'\u001b[0m\u001b[0;34m]\u001b[0m \u001b[0;34m=\u001b[0m \u001b[0mW\u001b[0m\u001b[0;34m[\u001b[0m\u001b[0;34m'dnl'\u001b[0m\u001b[0;34m]\u001b[0m\u001b[0;34m[\u001b[0m\u001b[0;36m1\u001b[0m\u001b[0;34m:\u001b[0m\u001b[0;34m]\u001b[0m\u001b[0;34m\u001b[0m\u001b[0;34m\u001b[0m\u001b[0m\n\u001b[1;32m   1900\u001b[0m         \u001b[0mWe\u001b[0m\u001b[0;34m[\u001b[0m\u001b[0;34m'dnli'\u001b[0m\u001b[0;34m]\u001b[0m \u001b[0;34m=\u001b[0m \u001b[0mW\u001b[0m\u001b[0;34m[\u001b[0m\u001b[0;34m'dnli'\u001b[0m\u001b[0;34m]\u001b[0m\u001b[0;34m[\u001b[0m\u001b[0;36m1\u001b[0m\u001b[0;34m:\u001b[0m\u001b[0;34m]\u001b[0m\u001b[0;34m\u001b[0m\u001b[0;34m\u001b[0m\u001b[0m\n\u001b[0;32m-> 1901\u001b[0;31m         \u001b[0mg\u001b[0m \u001b[0;34m=\u001b[0m \u001b[0mkktsolver\u001b[0m\u001b[0;34m(\u001b[0m\u001b[0mx\u001b[0m\u001b[0;34m[\u001b[0m\u001b[0;36m0\u001b[0m\u001b[0;34m]\u001b[0m\u001b[0;34m,\u001b[0m \u001b[0mznl\u001b[0m\u001b[0;34m,\u001b[0m \u001b[0mWe\u001b[0m\u001b[0;34m)\u001b[0m\u001b[0;34m\u001b[0m\u001b[0;34m\u001b[0m\u001b[0m\n\u001b[0m\u001b[1;32m   1902\u001b[0m \u001b[0;34m\u001b[0m\u001b[0m\n\u001b[1;32m   1903\u001b[0m         \u001b[0mf\u001b[0m\u001b[0;34m,\u001b[0m \u001b[0mDf\u001b[0m \u001b[0;34m=\u001b[0m \u001b[0mF\u001b[0m\u001b[0;34m(\u001b[0m\u001b[0mx\u001b[0m\u001b[0;34m[\u001b[0m\u001b[0;36m0\u001b[0m\u001b[0;34m]\u001b[0m\u001b[0;34m)\u001b[0m\u001b[0;34m\u001b[0m\u001b[0;34m\u001b[0m\u001b[0m\n",
            "\u001b[0;32m/usr/local/lib/python3.8/dist-packages/adapt/feature_based/_fmmd.py\u001b[0m in \u001b[0;36mF\u001b[0;34m(x, z)\u001b[0m\n\u001b[1;32m    221\u001b[0m             \u001b[0;32mif\u001b[0m \u001b[0mx\u001b[0m \u001b[0;32mis\u001b[0m \u001b[0;32mNone\u001b[0m\u001b[0;34m:\u001b[0m \u001b[0;32mreturn\u001b[0m \u001b[0;36m0\u001b[0m\u001b[0;34m,\u001b[0m \u001b[0mmatrix\u001b[0m\u001b[0;34m(\u001b[0m\u001b[0;36m1.0\u001b[0m\u001b[0;34m,\u001b[0m \u001b[0;34m(\u001b[0m\u001b[0mp\u001b[0m\u001b[0;34m,\u001b[0m\u001b[0;36m1\u001b[0m\u001b[0;34m)\u001b[0m\u001b[0;34m)\u001b[0m\u001b[0;34m\u001b[0m\u001b[0;34m\u001b[0m\u001b[0m\n\u001b[1;32m    222\u001b[0m             \u001b[0mx\u001b[0m \u001b[0;34m=\u001b[0m \u001b[0mtf\u001b[0m\u001b[0;34m.\u001b[0m\u001b[0midentity\u001b[0m\u001b[0;34m(\u001b[0m\u001b[0mnp\u001b[0m\u001b[0;34m.\u001b[0m\u001b[0marray\u001b[0m\u001b[0;34m(\u001b[0m\u001b[0mx\u001b[0m\u001b[0;34m)\u001b[0m\u001b[0;34m.\u001b[0m\u001b[0mravel\u001b[0m\u001b[0;34m(\u001b[0m\u001b[0;34m)\u001b[0m\u001b[0;34m)\u001b[0m\u001b[0;34m\u001b[0m\u001b[0;34m\u001b[0m\u001b[0m\n\u001b[0;32m--> 223\u001b[0;31m             \u001b[0mf\u001b[0m\u001b[0;34m,\u001b[0m \u001b[0mDf\u001b[0m\u001b[0;34m,\u001b[0m \u001b[0mH\u001b[0m \u001b[0;34m=\u001b[0m \u001b[0moptim_func\u001b[0m\u001b[0;34m(\u001b[0m\u001b[0mx\u001b[0m\u001b[0;34m)\u001b[0m\u001b[0;34m\u001b[0m\u001b[0;34m\u001b[0m\u001b[0m\n\u001b[0m\u001b[1;32m    224\u001b[0m             \u001b[0mf\u001b[0m \u001b[0;34m=\u001b[0m \u001b[0mf\u001b[0m\u001b[0;34m.\u001b[0m\u001b[0mnumpy\u001b[0m\u001b[0;34m(\u001b[0m\u001b[0;34m)\u001b[0m\u001b[0;34m\u001b[0m\u001b[0;34m\u001b[0m\u001b[0m\n\u001b[1;32m    225\u001b[0m             \u001b[0mDf\u001b[0m \u001b[0;34m=\u001b[0m \u001b[0mDf\u001b[0m\u001b[0;34m[\u001b[0m\u001b[0;36m0\u001b[0m\u001b[0;34m]\u001b[0m\u001b[0;34m.\u001b[0m\u001b[0mnumpy\u001b[0m\u001b[0;34m(\u001b[0m\u001b[0;34m)\u001b[0m\u001b[0;34m.\u001b[0m\u001b[0mreshape\u001b[0m\u001b[0;34m(\u001b[0m\u001b[0;36m1\u001b[0m\u001b[0;34m,\u001b[0m \u001b[0;34m-\u001b[0m\u001b[0;36m1\u001b[0m\u001b[0;34m)\u001b[0m\u001b[0;34m\u001b[0m\u001b[0;34m\u001b[0m\u001b[0m\n",
            "\u001b[0;32m/usr/local/lib/python3.8/dist-packages/tensorflow/python/util/traceback_utils.py\u001b[0m in \u001b[0;36merror_handler\u001b[0;34m(*args, **kwargs)\u001b[0m\n\u001b[1;32m    148\u001b[0m     \u001b[0mfiltered_tb\u001b[0m \u001b[0;34m=\u001b[0m \u001b[0;32mNone\u001b[0m\u001b[0;34m\u001b[0m\u001b[0;34m\u001b[0m\u001b[0m\n\u001b[1;32m    149\u001b[0m     \u001b[0;32mtry\u001b[0m\u001b[0;34m:\u001b[0m\u001b[0;34m\u001b[0m\u001b[0;34m\u001b[0m\u001b[0m\n\u001b[0;32m--> 150\u001b[0;31m       \u001b[0;32mreturn\u001b[0m \u001b[0mfn\u001b[0m\u001b[0;34m(\u001b[0m\u001b[0;34m*\u001b[0m\u001b[0margs\u001b[0m\u001b[0;34m,\u001b[0m \u001b[0;34m**\u001b[0m\u001b[0mkwargs\u001b[0m\u001b[0;34m)\u001b[0m\u001b[0;34m\u001b[0m\u001b[0;34m\u001b[0m\u001b[0m\n\u001b[0m\u001b[1;32m    151\u001b[0m     \u001b[0;32mexcept\u001b[0m \u001b[0mException\u001b[0m \u001b[0;32mas\u001b[0m \u001b[0me\u001b[0m\u001b[0;34m:\u001b[0m\u001b[0;34m\u001b[0m\u001b[0;34m\u001b[0m\u001b[0m\n\u001b[1;32m    152\u001b[0m       \u001b[0mfiltered_tb\u001b[0m \u001b[0;34m=\u001b[0m \u001b[0m_process_traceback_frames\u001b[0m\u001b[0;34m(\u001b[0m\u001b[0me\u001b[0m\u001b[0;34m.\u001b[0m\u001b[0m__traceback__\u001b[0m\u001b[0;34m)\u001b[0m\u001b[0;34m\u001b[0m\u001b[0;34m\u001b[0m\u001b[0m\n",
            "\u001b[0;32m/usr/local/lib/python3.8/dist-packages/tensorflow/python/eager/def_function.py\u001b[0m in \u001b[0;36m__call__\u001b[0;34m(self, *args, **kwds)\u001b[0m\n\u001b[1;32m    913\u001b[0m \u001b[0;34m\u001b[0m\u001b[0m\n\u001b[1;32m    914\u001b[0m       \u001b[0;32mwith\u001b[0m \u001b[0mOptionalXlaContext\u001b[0m\u001b[0;34m(\u001b[0m\u001b[0mself\u001b[0m\u001b[0;34m.\u001b[0m\u001b[0m_jit_compile\u001b[0m\u001b[0;34m)\u001b[0m\u001b[0;34m:\u001b[0m\u001b[0;34m\u001b[0m\u001b[0;34m\u001b[0m\u001b[0m\n\u001b[0;32m--> 915\u001b[0;31m         \u001b[0mresult\u001b[0m \u001b[0;34m=\u001b[0m \u001b[0mself\u001b[0m\u001b[0;34m.\u001b[0m\u001b[0m_call\u001b[0m\u001b[0;34m(\u001b[0m\u001b[0;34m*\u001b[0m\u001b[0margs\u001b[0m\u001b[0;34m,\u001b[0m \u001b[0;34m**\u001b[0m\u001b[0mkwds\u001b[0m\u001b[0;34m)\u001b[0m\u001b[0;34m\u001b[0m\u001b[0;34m\u001b[0m\u001b[0m\n\u001b[0m\u001b[1;32m    916\u001b[0m \u001b[0;34m\u001b[0m\u001b[0m\n\u001b[1;32m    917\u001b[0m       \u001b[0mnew_tracing_count\u001b[0m \u001b[0;34m=\u001b[0m \u001b[0mself\u001b[0m\u001b[0;34m.\u001b[0m\u001b[0mexperimental_get_tracing_count\u001b[0m\u001b[0;34m(\u001b[0m\u001b[0;34m)\u001b[0m\u001b[0;34m\u001b[0m\u001b[0;34m\u001b[0m\u001b[0m\n",
            "\u001b[0;32m/usr/local/lib/python3.8/dist-packages/tensorflow/python/eager/def_function.py\u001b[0m in \u001b[0;36m_call\u001b[0;34m(self, *args, **kwds)\u001b[0m\n\u001b[1;32m    952\u001b[0m       \u001b[0;31m# In this case we have not created variables on the first call. So we can\u001b[0m\u001b[0;34m\u001b[0m\u001b[0;34m\u001b[0m\u001b[0;34m\u001b[0m\u001b[0m\n\u001b[1;32m    953\u001b[0m       \u001b[0;31m# run the first trace but we should fail if variables are created.\u001b[0m\u001b[0;34m\u001b[0m\u001b[0;34m\u001b[0m\u001b[0;34m\u001b[0m\u001b[0m\n\u001b[0;32m--> 954\u001b[0;31m       \u001b[0mresults\u001b[0m \u001b[0;34m=\u001b[0m \u001b[0mself\u001b[0m\u001b[0;34m.\u001b[0m\u001b[0m_stateful_fn\u001b[0m\u001b[0;34m(\u001b[0m\u001b[0;34m*\u001b[0m\u001b[0margs\u001b[0m\u001b[0;34m,\u001b[0m \u001b[0;34m**\u001b[0m\u001b[0mkwds\u001b[0m\u001b[0;34m)\u001b[0m\u001b[0;34m\u001b[0m\u001b[0;34m\u001b[0m\u001b[0m\n\u001b[0m\u001b[1;32m    955\u001b[0m       \u001b[0;32mif\u001b[0m \u001b[0mself\u001b[0m\u001b[0;34m.\u001b[0m\u001b[0m_created_variables\u001b[0m \u001b[0;32mand\u001b[0m \u001b[0;32mnot\u001b[0m \u001b[0mALLOW_DYNAMIC_VARIABLE_CREATION\u001b[0m\u001b[0;34m:\u001b[0m\u001b[0;34m\u001b[0m\u001b[0;34m\u001b[0m\u001b[0m\n\u001b[1;32m    956\u001b[0m         raise ValueError(\"Creating variables on a non-first call to a function\"\n",
            "\u001b[0;32m/usr/local/lib/python3.8/dist-packages/tensorflow/python/eager/function.py\u001b[0m in \u001b[0;36m__call__\u001b[0;34m(self, *args, **kwargs)\u001b[0m\n\u001b[1;32m   2451\u001b[0m       (graph_function,\n\u001b[1;32m   2452\u001b[0m        filtered_flat_args) = self._maybe_define_function(args, kwargs)\n\u001b[0;32m-> 2453\u001b[0;31m     return graph_function._call_flat(\n\u001b[0m\u001b[1;32m   2454\u001b[0m         filtered_flat_args, captured_inputs=graph_function.captured_inputs)  # pylint: disable=protected-access\n\u001b[1;32m   2455\u001b[0m \u001b[0;34m\u001b[0m\u001b[0m\n",
            "\u001b[0;32m/usr/local/lib/python3.8/dist-packages/tensorflow/python/eager/function.py\u001b[0m in \u001b[0;36m_call_flat\u001b[0;34m(self, args, captured_inputs, cancellation_manager)\u001b[0m\n\u001b[1;32m   1858\u001b[0m         and executing_eagerly):\n\u001b[1;32m   1859\u001b[0m       \u001b[0;31m# No tape is watching; skip to running the function.\u001b[0m\u001b[0;34m\u001b[0m\u001b[0;34m\u001b[0m\u001b[0;34m\u001b[0m\u001b[0m\n\u001b[0;32m-> 1860\u001b[0;31m       return self._build_call_outputs(self._inference_function.call(\n\u001b[0m\u001b[1;32m   1861\u001b[0m           ctx, args, cancellation_manager=cancellation_manager))\n\u001b[1;32m   1862\u001b[0m     forward_backward = self._select_forward_and_backward_functions(\n",
            "\u001b[0;32m/usr/local/lib/python3.8/dist-packages/tensorflow/python/eager/function.py\u001b[0m in \u001b[0;36mcall\u001b[0;34m(self, ctx, args, cancellation_manager)\u001b[0m\n\u001b[1;32m    495\u001b[0m       \u001b[0;32mwith\u001b[0m \u001b[0m_InterpolateFunctionError\u001b[0m\u001b[0;34m(\u001b[0m\u001b[0mself\u001b[0m\u001b[0;34m)\u001b[0m\u001b[0;34m:\u001b[0m\u001b[0;34m\u001b[0m\u001b[0;34m\u001b[0m\u001b[0m\n\u001b[1;32m    496\u001b[0m         \u001b[0;32mif\u001b[0m \u001b[0mcancellation_manager\u001b[0m \u001b[0;32mis\u001b[0m \u001b[0;32mNone\u001b[0m\u001b[0;34m:\u001b[0m\u001b[0;34m\u001b[0m\u001b[0;34m\u001b[0m\u001b[0m\n\u001b[0;32m--> 497\u001b[0;31m           outputs = execute.execute(\n\u001b[0m\u001b[1;32m    498\u001b[0m               \u001b[0mstr\u001b[0m\u001b[0;34m(\u001b[0m\u001b[0mself\u001b[0m\u001b[0;34m.\u001b[0m\u001b[0msignature\u001b[0m\u001b[0;34m.\u001b[0m\u001b[0mname\u001b[0m\u001b[0;34m)\u001b[0m\u001b[0;34m,\u001b[0m\u001b[0;34m\u001b[0m\u001b[0;34m\u001b[0m\u001b[0m\n\u001b[1;32m    499\u001b[0m               \u001b[0mnum_outputs\u001b[0m\u001b[0;34m=\u001b[0m\u001b[0mself\u001b[0m\u001b[0;34m.\u001b[0m\u001b[0m_num_outputs\u001b[0m\u001b[0;34m,\u001b[0m\u001b[0;34m\u001b[0m\u001b[0;34m\u001b[0m\u001b[0m\n",
            "\u001b[0;32m/usr/local/lib/python3.8/dist-packages/tensorflow/python/eager/execute.py\u001b[0m in \u001b[0;36mquick_execute\u001b[0;34m(op_name, num_outputs, inputs, attrs, ctx, name)\u001b[0m\n\u001b[1;32m     52\u001b[0m   \u001b[0;32mtry\u001b[0m\u001b[0;34m:\u001b[0m\u001b[0;34m\u001b[0m\u001b[0;34m\u001b[0m\u001b[0m\n\u001b[1;32m     53\u001b[0m     \u001b[0mctx\u001b[0m\u001b[0;34m.\u001b[0m\u001b[0mensure_initialized\u001b[0m\u001b[0;34m(\u001b[0m\u001b[0;34m)\u001b[0m\u001b[0;34m\u001b[0m\u001b[0;34m\u001b[0m\u001b[0m\n\u001b[0;32m---> 54\u001b[0;31m     tensors = pywrap_tfe.TFE_Py_Execute(ctx._handle, device_name, op_name,\n\u001b[0m\u001b[1;32m     55\u001b[0m                                         inputs, attrs, num_outputs)\n\u001b[1;32m     56\u001b[0m   \u001b[0;32mexcept\u001b[0m \u001b[0mcore\u001b[0m\u001b[0;34m.\u001b[0m\u001b[0m_NotOkStatusException\u001b[0m \u001b[0;32mas\u001b[0m \u001b[0me\u001b[0m\u001b[0;34m:\u001b[0m\u001b[0;34m\u001b[0m\u001b[0;34m\u001b[0m\u001b[0m\n",
            "\u001b[0;31mKeyboardInterrupt\u001b[0m: "
          ]
        }
      ],
      "source": [
        "fmmd = fMMD(estimator=SVC(kernel='poly', C=100.0),\n",
        "             Xt=Xt, kernel=\"linear\", random_state=0, verbose=0)\n",
        "fmmd.fit(Xs, ys)\n",
        "fmmd.score(Xt, yt)\n",
        "show_results2(fmmd, True)"
      ]
    },
    {
      "cell_type": "markdown",
      "metadata": {
        "id": "5EU3BEhs5L79"
      },
      "source": [
        "MDD"
      ]
    },
    {
      "cell_type": "code",
      "execution_count": null,
      "metadata": {
        "colab": {
          "background_save": true
        },
        "id": "C3RKuoN58yTT"
      },
      "outputs": [],
      "source": [
        "mdd = MDD(lambda_=0.1, gamma=4., Xt=Xt, metrics=[\"acc\"], random_state=0)\n",
        "mdd.fit(Xs, ys, epochs=100, verbose=0)\n",
        "mdd.score(Xt, yt)"
      ]
    },
    {
      "cell_type": "code",
      "execution_count": null,
      "metadata": {
        "colab": {
          "background_save": true
        },
        "id": "5pZlX2Gx9Gls"
      },
      "outputs": [],
      "source": [
        "show_results(mdd, True)"
      ]
    },
    {
      "cell_type": "markdown",
      "metadata": {
        "id": "3GonBwyv-0jK"
      },
      "source": [
        "#cdan"
      ]
    },
    {
      "cell_type": "code",
      "execution_count": null,
      "metadata": {
        "colab": {
          "base_uri": "https://localhost:8080/"
        },
        "id": "hDUdynfs97bJ",
        "outputId": "5510b479-f98c-4cf0-bde3-b197f5ea4213"
      },
      "outputs": [
        {
          "name": "stderr",
          "output_type": "stream",
          "text": [
            "WARNING:tensorflow:5 out of the last 5 calls to <function Model.make_test_function.<locals>.test_function at 0x7ff66e783680> triggered tf.function retracing. Tracing is expensive and the excessive number of tracings could be due to (1) creating @tf.function repeatedly in a loop, (2) passing tensors with different shapes, (3) passing Python objects instead of tensors. For (1), please define your @tf.function outside of the loop. For (2), @tf.function has reduce_retracing=True option that can avoid unnecessary retracing. For (3), please refer to https://www.tensorflow.org/guide/function#controlling_retracing and https://www.tensorflow.org/api_docs/python/tf/function for  more details.\n"
          ]
        },
        {
          "name": "stdout",
          "output_type": "stream",
          "text": [
            "1/1 [==============================] - 0s 112ms/step - loss: 0.1581 - acc: 0.7857\n"
          ]
        },
        {
          "data": {
            "text/plain": [
              "0.15806157886981964"
            ]
          },
          "execution_count": 57,
          "metadata": {},
          "output_type": "execute_result"
        }
      ],
      "source": [
        "ys = np.stack([ys, np.abs(1-ys)], 1)\n",
        "yt = np.stack([yt, np.abs(1-yt)], 1)\n",
        "cdan = CDAN(lambda_=0.1, Xt=Xt, metrics=[\"acc\"], random_state=0)\n",
        "cdan.fit(Xs, ys, epochs=100, verbose=0)\n",
        "cdan.score(Xt, yt)"
      ]
    },
    {
      "cell_type": "code",
      "execution_count": null,
      "metadata": {
        "colab": {
          "base_uri": "https://localhost:8080/"
        },
        "id": "IF10iQG0-Lnw",
        "outputId": "21fbb999-b0eb-4fa3-8f78-7c6ac81d2874"
      },
      "outputs": [
        {
          "name": "stdout",
          "output_type": "stream",
          "text": [
            "              precision    recall  f1-score   support\n",
            "\n",
            "           0       0.76      0.87      0.81      1046\n",
            "           1       0.82      0.69      0.75       914\n",
            "\n",
            "   micro avg       0.79      0.79      0.79      1960\n",
            "   macro avg       0.79      0.78      0.78      1960\n",
            "weighted avg       0.79      0.79      0.78      1960\n",
            " samples avg       0.79      0.79      0.79      1960\n",
            "\n"
          ]
        }
      ],
      "source": [
        "ys_pred = cdan.predict(Xs)\n",
        "yt_pred = cdan.predict(Xt)\n",
        "acc_s = accuracy_score(ys, ys_pred>0.5)\n",
        "acc_t = accuracy_score(yt, yt_pred>0.5)\n",
        "\n",
        "print(classification_report(yt, yt_pred>0.5))"
      ]
    },
    {
      "cell_type": "code",
      "execution_count": null,
      "metadata": {
        "colab": {
          "base_uri": "https://localhost:8080/",
          "height": 393
        },
        "id": "ad090vCfALAB",
        "outputId": "2d8d6773-e1b0-41f7-b0a2-e4b90bb22024"
      },
      "outputs": [
        {
          "name": "stdout",
          "output_type": "stream",
          "text": [
            "Accuracy, target : 0.785714\n"
          ]
        },
        {
          "ename": "ValueError",
          "evalue": "ignored",
          "output_type": "error",
          "traceback": [
            "\u001b[0;31m---------------------------------------------------------------------------\u001b[0m",
            "\u001b[0;31mValueError\u001b[0m                                Traceback (most recent call last)",
            "\u001b[0;32m<ipython-input-59-3b5c6f180cb4>\u001b[0m in \u001b[0;36m<module>\u001b[0;34m\u001b[0m\n\u001b[1;32m      1\u001b[0m \u001b[0mprint\u001b[0m\u001b[0;34m(\u001b[0m\u001b[0;34m\"Accuracy, target : %f\"\u001b[0m \u001b[0;34m%\u001b[0m \u001b[0macc_t\u001b[0m\u001b[0;34m)\u001b[0m\u001b[0;34m\u001b[0m\u001b[0;34m\u001b[0m\u001b[0m\n\u001b[0;32m----> 2\u001b[0;31m \u001b[0mprint\u001b[0m\u001b[0;34m(\u001b[0m\u001b[0;34m\"Balanced accuracy, target : %f\"\u001b[0m \u001b[0;34m%\u001b[0m \u001b[0mbalanced_accuracy_score\u001b[0m\u001b[0;34m(\u001b[0m\u001b[0myt\u001b[0m\u001b[0;34m,\u001b[0m \u001b[0myt_pred\u001b[0m\u001b[0;34m>\u001b[0m\u001b[0;36m0.5\u001b[0m\u001b[0;34m)\u001b[0m\u001b[0;34m)\u001b[0m\u001b[0;34m\u001b[0m\u001b[0;34m\u001b[0m\u001b[0m\n\u001b[0m\u001b[1;32m      3\u001b[0m \u001b[0;34m\u001b[0m\u001b[0m\n\u001b[1;32m      4\u001b[0m \u001b[0;34m\u001b[0m\u001b[0m\n",
            "\u001b[0;32m/usr/local/lib/python3.7/dist-packages/sklearn/metrics/_classification.py\u001b[0m in \u001b[0;36mbalanced_accuracy_score\u001b[0;34m(y_true, y_pred, sample_weight, adjusted)\u001b[0m\n\u001b[1;32m   1981\u001b[0m     \u001b[0;36m0.625\u001b[0m\u001b[0;34m\u001b[0m\u001b[0;34m\u001b[0m\u001b[0m\n\u001b[1;32m   1982\u001b[0m     \"\"\"\n\u001b[0;32m-> 1983\u001b[0;31m     \u001b[0mC\u001b[0m \u001b[0;34m=\u001b[0m \u001b[0mconfusion_matrix\u001b[0m\u001b[0;34m(\u001b[0m\u001b[0my_true\u001b[0m\u001b[0;34m,\u001b[0m \u001b[0my_pred\u001b[0m\u001b[0;34m,\u001b[0m \u001b[0msample_weight\u001b[0m\u001b[0;34m=\u001b[0m\u001b[0msample_weight\u001b[0m\u001b[0;34m)\u001b[0m\u001b[0;34m\u001b[0m\u001b[0;34m\u001b[0m\u001b[0m\n\u001b[0m\u001b[1;32m   1984\u001b[0m     \u001b[0;32mwith\u001b[0m \u001b[0mnp\u001b[0m\u001b[0;34m.\u001b[0m\u001b[0merrstate\u001b[0m\u001b[0;34m(\u001b[0m\u001b[0mdivide\u001b[0m\u001b[0;34m=\u001b[0m\u001b[0;34m\"ignore\"\u001b[0m\u001b[0;34m,\u001b[0m \u001b[0minvalid\u001b[0m\u001b[0;34m=\u001b[0m\u001b[0;34m\"ignore\"\u001b[0m\u001b[0;34m)\u001b[0m\u001b[0;34m:\u001b[0m\u001b[0;34m\u001b[0m\u001b[0;34m\u001b[0m\u001b[0m\n\u001b[1;32m   1985\u001b[0m         \u001b[0mper_class\u001b[0m \u001b[0;34m=\u001b[0m \u001b[0mnp\u001b[0m\u001b[0;34m.\u001b[0m\u001b[0mdiag\u001b[0m\u001b[0;34m(\u001b[0m\u001b[0mC\u001b[0m\u001b[0;34m)\u001b[0m \u001b[0;34m/\u001b[0m \u001b[0mC\u001b[0m\u001b[0;34m.\u001b[0m\u001b[0msum\u001b[0m\u001b[0;34m(\u001b[0m\u001b[0maxis\u001b[0m\u001b[0;34m=\u001b[0m\u001b[0;36m1\u001b[0m\u001b[0;34m)\u001b[0m\u001b[0;34m\u001b[0m\u001b[0;34m\u001b[0m\u001b[0m\n",
            "\u001b[0;32m/usr/local/lib/python3.7/dist-packages/sklearn/metrics/_classification.py\u001b[0m in \u001b[0;36mconfusion_matrix\u001b[0;34m(y_true, y_pred, labels, sample_weight, normalize)\u001b[0m\n\u001b[1;32m    307\u001b[0m     \u001b[0my_type\u001b[0m\u001b[0;34m,\u001b[0m \u001b[0my_true\u001b[0m\u001b[0;34m,\u001b[0m \u001b[0my_pred\u001b[0m \u001b[0;34m=\u001b[0m \u001b[0m_check_targets\u001b[0m\u001b[0;34m(\u001b[0m\u001b[0my_true\u001b[0m\u001b[0;34m,\u001b[0m \u001b[0my_pred\u001b[0m\u001b[0;34m)\u001b[0m\u001b[0;34m\u001b[0m\u001b[0;34m\u001b[0m\u001b[0m\n\u001b[1;32m    308\u001b[0m     \u001b[0;32mif\u001b[0m \u001b[0my_type\u001b[0m \u001b[0;32mnot\u001b[0m \u001b[0;32min\u001b[0m \u001b[0;34m(\u001b[0m\u001b[0;34m\"binary\"\u001b[0m\u001b[0;34m,\u001b[0m \u001b[0;34m\"multiclass\"\u001b[0m\u001b[0;34m)\u001b[0m\u001b[0;34m:\u001b[0m\u001b[0;34m\u001b[0m\u001b[0;34m\u001b[0m\u001b[0m\n\u001b[0;32m--> 309\u001b[0;31m         \u001b[0;32mraise\u001b[0m \u001b[0mValueError\u001b[0m\u001b[0;34m(\u001b[0m\u001b[0;34m\"%s is not supported\"\u001b[0m \u001b[0;34m%\u001b[0m \u001b[0my_type\u001b[0m\u001b[0;34m)\u001b[0m\u001b[0;34m\u001b[0m\u001b[0;34m\u001b[0m\u001b[0m\n\u001b[0m\u001b[1;32m    310\u001b[0m \u001b[0;34m\u001b[0m\u001b[0m\n\u001b[1;32m    311\u001b[0m     \u001b[0;32mif\u001b[0m \u001b[0mlabels\u001b[0m \u001b[0;32mis\u001b[0m \u001b[0;32mNone\u001b[0m\u001b[0;34m:\u001b[0m\u001b[0;34m\u001b[0m\u001b[0;34m\u001b[0m\u001b[0m\n",
            "\u001b[0;31mValueError\u001b[0m: multilabel-indicator is not supported"
          ]
        }
      ],
      "source": [
        "print(\"Accuracy, target : %f\" % acc_t)\n",
        "print(\"Balanced accuracy, target : %f\" % balanced_accuracy_score(yt, yt_pred>0.5))\n",
        "    \n",
        "    "
      ]
    }
  ],
  "metadata": {
    "colab": {
      "collapsed_sections": [
        "YA52mXTJmCWk",
        "_HgByTr7M6YS",
        "SfTh6uMBct9Z",
        "RIPQakm3Rqs0",
        "J82MP9FzRM2i",
        "rlk8xua8Rz0z"
      ],
      "provenance": [],
      "include_colab_link": true
    },
    "gpuClass": "standard",
    "kernelspec": {
      "display_name": "Python 3",
      "name": "python3"
    },
    "language_info": {
      "name": "python"
    }
  },
  "nbformat": 4,
  "nbformat_minor": 0
}